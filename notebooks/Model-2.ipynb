{
 "cells": [
  {
   "cell_type": "code",
   "execution_count": 1,
   "metadata": {},
   "outputs": [],
   "source": [
    "import numpy as np\n",
    "import pandas as pd\n",
    "import matplotlib.pyplot as plt\n",
    "import statsmodels.api as sm\n",
    "import itertools"
   ]
  },
  {
   "cell_type": "code",
   "execution_count": 2,
   "metadata": {},
   "outputs": [],
   "source": [
    "%matplotlib inline"
   ]
  },
  {
   "cell_type": "code",
   "execution_count": 21,
   "metadata": {},
   "outputs": [
    {
     "data": {
      "text/html": [
       "<div>\n",
       "<style scoped>\n",
       "    .dataframe tbody tr th:only-of-type {\n",
       "        vertical-align: middle;\n",
       "    }\n",
       "\n",
       "    .dataframe tbody tr th {\n",
       "        vertical-align: top;\n",
       "    }\n",
       "\n",
       "    .dataframe thead th {\n",
       "        text-align: right;\n",
       "    }\n",
       "</style>\n",
       "<table border=\"1\" class=\"dataframe\">\n",
       "  <thead>\n",
       "    <tr style=\"text-align: right;\">\n",
       "      <th></th>\n",
       "      <th>Row_ID</th>\n",
       "      <th>Order_Date</th>\n",
       "      <th>Customer_Name</th>\n",
       "      <th>City</th>\n",
       "      <th>Region</th>\n",
       "      <th>Category</th>\n",
       "      <th>Sub_Category</th>\n",
       "      <th>Product_Name</th>\n",
       "      <th>Sales</th>\n",
       "      <th>Quantity</th>\n",
       "      <th>Discount</th>\n",
       "      <th>Profit</th>\n",
       "      <th>Temperature</th>\n",
       "      <th>Is_Holiday</th>\n",
       "      <th>Fuel_Price</th>\n",
       "    </tr>\n",
       "  </thead>\n",
       "  <tbody>\n",
       "    <tr>\n",
       "      <th>0</th>\n",
       "      <td>1</td>\n",
       "      <td>2016-11-08</td>\n",
       "      <td>Claire Gute</td>\n",
       "      <td>Henderson</td>\n",
       "      <td>South</td>\n",
       "      <td>Furniture</td>\n",
       "      <td>Bookcases</td>\n",
       "      <td>Bush Somerset Collection Bookcase</td>\n",
       "      <td>261.9600</td>\n",
       "      <td>2</td>\n",
       "      <td>0.00</td>\n",
       "      <td>41.9136</td>\n",
       "      <td>42.31</td>\n",
       "      <td>False</td>\n",
       "      <td>2.572</td>\n",
       "    </tr>\n",
       "    <tr>\n",
       "      <th>1</th>\n",
       "      <td>2</td>\n",
       "      <td>2016-11-08</td>\n",
       "      <td>Claire Gute</td>\n",
       "      <td>Henderson</td>\n",
       "      <td>South</td>\n",
       "      <td>Furniture</td>\n",
       "      <td>Chairs</td>\n",
       "      <td>Hon Deluxe Fabric Upholstered Stacking Chairs,...</td>\n",
       "      <td>731.9400</td>\n",
       "      <td>3</td>\n",
       "      <td>0.00</td>\n",
       "      <td>219.5820</td>\n",
       "      <td>38.51</td>\n",
       "      <td>False</td>\n",
       "      <td>2.548</td>\n",
       "    </tr>\n",
       "    <tr>\n",
       "      <th>2</th>\n",
       "      <td>3</td>\n",
       "      <td>2016-06-12</td>\n",
       "      <td>Darrin Van Huff</td>\n",
       "      <td>Los Angeles</td>\n",
       "      <td>West</td>\n",
       "      <td>Office Supplies</td>\n",
       "      <td>Labels</td>\n",
       "      <td>Self-Adhesive Address Labels for Typewriters b...</td>\n",
       "      <td>14.6200</td>\n",
       "      <td>2</td>\n",
       "      <td>0.00</td>\n",
       "      <td>6.8714</td>\n",
       "      <td>39.93</td>\n",
       "      <td>False</td>\n",
       "      <td>2.514</td>\n",
       "    </tr>\n",
       "    <tr>\n",
       "      <th>3</th>\n",
       "      <td>4</td>\n",
       "      <td>2015-10-11</td>\n",
       "      <td>Sean O'Donnell</td>\n",
       "      <td>Fort Lauderdale</td>\n",
       "      <td>South</td>\n",
       "      <td>Furniture</td>\n",
       "      <td>Tables</td>\n",
       "      <td>Bretford CR4500 Series Slim Rectangular Table</td>\n",
       "      <td>957.5775</td>\n",
       "      <td>5</td>\n",
       "      <td>0.45</td>\n",
       "      <td>-383.0310</td>\n",
       "      <td>46.63</td>\n",
       "      <td>True</td>\n",
       "      <td>2.561</td>\n",
       "    </tr>\n",
       "    <tr>\n",
       "      <th>4</th>\n",
       "      <td>5</td>\n",
       "      <td>2015-10-11</td>\n",
       "      <td>Sean O'Donnell</td>\n",
       "      <td>Fort Lauderdale</td>\n",
       "      <td>South</td>\n",
       "      <td>Office Supplies</td>\n",
       "      <td>Storage</td>\n",
       "      <td>Eldon Fold 'N Roll Cart System</td>\n",
       "      <td>22.3680</td>\n",
       "      <td>2</td>\n",
       "      <td>0.20</td>\n",
       "      <td>2.5164</td>\n",
       "      <td>46.50</td>\n",
       "      <td>False</td>\n",
       "      <td>2.625</td>\n",
       "    </tr>\n",
       "  </tbody>\n",
       "</table>\n",
       "</div>"
      ],
      "text/plain": [
       "   Row_ID Order_Date    Customer_Name             City Region  \\\n",
       "0       1 2016-11-08      Claire Gute        Henderson  South   \n",
       "1       2 2016-11-08      Claire Gute        Henderson  South   \n",
       "2       3 2016-06-12  Darrin Van Huff      Los Angeles   West   \n",
       "3       4 2015-10-11   Sean O'Donnell  Fort Lauderdale  South   \n",
       "4       5 2015-10-11   Sean O'Donnell  Fort Lauderdale  South   \n",
       "\n",
       "          Category Sub_Category  \\\n",
       "0        Furniture    Bookcases   \n",
       "1        Furniture       Chairs   \n",
       "2  Office Supplies       Labels   \n",
       "3        Furniture       Tables   \n",
       "4  Office Supplies      Storage   \n",
       "\n",
       "                                        Product_Name     Sales  Quantity  \\\n",
       "0                  Bush Somerset Collection Bookcase  261.9600         2   \n",
       "1  Hon Deluxe Fabric Upholstered Stacking Chairs,...  731.9400         3   \n",
       "2  Self-Adhesive Address Labels for Typewriters b...   14.6200         2   \n",
       "3      Bretford CR4500 Series Slim Rectangular Table  957.5775         5   \n",
       "4                     Eldon Fold 'N Roll Cart System   22.3680         2   \n",
       "\n",
       "   Discount    Profit  Temperature  Is_Holiday  Fuel_Price  \n",
       "0      0.00   41.9136        42.31       False       2.572  \n",
       "1      0.00  219.5820        38.51       False       2.548  \n",
       "2      0.00    6.8714        39.93       False       2.514  \n",
       "3      0.45 -383.0310        46.63        True       2.561  \n",
       "4      0.20    2.5164        46.50       False       2.625  "
      ]
     },
     "execution_count": 21,
     "metadata": {},
     "output_type": "execute_result"
    }
   ],
   "source": [
    "data = pd.read_excel('../sales.xls')\n",
    "data.head()"
   ]
  },
  {
   "cell_type": "code",
   "execution_count": 22,
   "metadata": {},
   "outputs": [],
   "source": [
    "def forecastSubCategory(subcat):\n",
    "    df_sub = data.loc[data['Sub_Category'] == subcat]\n",
    "    var_column = ['Row_ID', 'Customer_Name', 'City', 'Region', 'Category',\n",
    "       'Sub_Category', 'Product_Name', 'Sales', 'Discount',\n",
    "       'Profit', 'Temperature', 'Is_Holiday', 'Fuel_Price']\n",
    "    df_sub.drop(var_column, axis=1, inplace=True)\n",
    "    df_sub.sort_values('Order_Date')\n",
    "    df_sub.isna().sum()\n",
    "    df_sub = df_sub.groupby('Order_Date')['Quantity'].sum().reset_index()\n",
    "    df_sub = df_sub.set_index('Order_Date')\n",
    "    y = df_sub['Quantity'].resample('MS').mean()\n",
    "    \n",
    "    p = d = q = range(0, 2)\n",
    "    rangePDQ = list(itertools.product(p, d, q))\n",
    "    seasonalPDQ = [(x[0], x[1], x[2], 12) for x in rangePDQ]\n",
    "\n",
    "    for p in rangePDQ:\n",
    "        for seasonalp in seasonalPDQ:\n",
    "            try:\n",
    "                model = sm.tsa.statespace.SARIMAX(y, order=p, seasonal_order=seasonalp, enforce_stationarity=False,\n",
    "                                                enforce_invertibility=False)\n",
    "                modelResults = model.fit()\n",
    "                print('ARIMA{}x{} - AIC:{}'.format(p, seasonalp, modelResults.aic))\n",
    "            except:\n",
    "                continue\n",
    "    return y"
   ]
  },
  {
   "cell_type": "code",
   "execution_count": 145,
   "metadata": {},
   "outputs": [
    {
     "name": "stdout",
     "output_type": "stream",
     "text": [
      "Copiers\n"
     ]
    },
    {
     "name": "stderr",
     "output_type": "stream",
     "text": [
      "F:\\anaconda\\lib\\site-packages\\pandas\\core\\frame.py:4170: SettingWithCopyWarning: \n",
      "A value is trying to be set on a copy of a slice from a DataFrame\n",
      "\n",
      "See the caveats in the documentation: https://pandas.pydata.org/pandas-docs/stable/user_guide/indexing.html#returning-a-view-versus-a-copy\n",
      "  errors=errors,\n",
      "F:\\anaconda\\lib\\site-packages\\statsmodels\\tsa\\statespace\\sarimax.py:867: UserWarning: Too few observations to estimate starting parameters for seasonal ARMA. All parameters except for variances will be set to zeros.\n",
      "  ' zeros.' % warning_description)\n"
     ]
    },
    {
     "name": "stdout",
     "output_type": "stream",
     "text": [
      "ARIMA(0, 0, 0)x(0, 0, 0, 12) - AIC:174.74111504071513\n",
      "ARIMA(0, 0, 0)x(0, 0, 1, 12) - AIC:121.6949638386881\n",
      "ARIMA(0, 0, 0)x(0, 1, 0, 12) - AIC:141.9690389935986\n",
      "ARIMA(0, 0, 0)x(0, 1, 1, 12) - AIC:61.93202137281402\n",
      "ARIMA(0, 0, 0)x(1, 0, 0, 12) - AIC:146.85519073860956\n",
      "ARIMA(0, 0, 0)x(1, 0, 1, 12) - AIC:136.14705468318104\n",
      "ARIMA(0, 0, 0)x(1, 1, 0, 12) - AIC:76.84494516571412\n",
      "ARIMA(0, 0, 0)x(1, 1, 1, 12) - AIC:63.93198061835258\n",
      "ARIMA(0, 0, 1)x(0, 0, 0, 12) - AIC:163.81936979258458\n",
      "ARIMA(0, 0, 1)x(0, 0, 1, 12) - AIC:108.17458873769668\n",
      "ARIMA(0, 0, 1)x(0, 1, 0, 12) - AIC:123.78368742047248\n",
      "ARIMA(0, 0, 1)x(0, 1, 1, 12) - AIC:62.57453173203468\n",
      "ARIMA(0, 0, 1)x(1, 0, 0, 12) - AIC:129.68503189900116\n",
      "ARIMA(0, 0, 1)x(1, 0, 1, 12) - AIC:109.9825328030123\n",
      "ARIMA(0, 0, 1)x(1, 1, 0, 12) - AIC:75.04028696779513\n",
      "ARIMA(0, 0, 1)x(1, 1, 1, 12) - AIC:64.03917286599346\n",
      "ARIMA(0, 1, 0)x(0, 0, 0, 12) - AIC:137.76434566990935\n",
      "ARIMA(0, 1, 0)x(0, 0, 1, 12) - AIC:94.52205377383429\n",
      "ARIMA(0, 1, 0)x(0, 1, 0, 12) - AIC:131.3862399306039\n",
      "ARIMA(0, 1, 0)x(0, 1, 1, 12) - AIC:66.90767726200544\n",
      "ARIMA(0, 1, 0)x(1, 0, 0, 12) - AIC:100.79701979922908\n",
      "ARIMA(0, 1, 0)x(1, 0, 1, 12) - AIC:95.93571405283082\n",
      "ARIMA(0, 1, 0)x(1, 1, 0, 12) - AIC:72.68636980308129\n",
      "ARIMA(0, 1, 0)x(1, 1, 1, 12) - AIC:68.90754469327501\n",
      "ARIMA(0, 1, 1)x(0, 0, 0, 12) - AIC:116.82742578232762\n",
      "ARIMA(0, 1, 1)x(0, 0, 1, 12) - AIC:86.57242516817388\n",
      "ARIMA(0, 1, 1)x(0, 1, 0, 12) - AIC:131.93124198730686\n",
      "ARIMA(0, 1, 1)x(0, 1, 1, 12) - AIC:58.44331442298018\n",
      "ARIMA(0, 1, 1)x(1, 0, 0, 12) - AIC:91.679398415021\n",
      "ARIMA(0, 1, 1)x(1, 0, 1, 12) - AIC:88.46041729695087\n",
      "ARIMA(0, 1, 1)x(1, 1, 0, 12) - AIC:73.85799325629596\n",
      "ARIMA(0, 1, 1)x(1, 1, 1, 12) - AIC:60.44330180578442\n",
      "ARIMA(1, 0, 0)x(0, 0, 0, 12) - AIC:137.2106733871101\n",
      "ARIMA(1, 0, 0)x(0, 0, 1, 12) - AIC:101.0355048371871\n",
      "ARIMA(1, 0, 0)x(0, 1, 0, 12) - AIC:140.45945195382208\n",
      "ARIMA(1, 0, 0)x(0, 1, 1, 12) - AIC:62.0563735027681\n",
      "ARIMA(1, 0, 0)x(1, 0, 0, 12) - AIC:100.21528531385746\n",
      "ARIMA(1, 0, 0)x(1, 0, 1, 12) - AIC:101.87193106823668\n",
      "ARIMA(1, 0, 0)x(1, 1, 0, 12) - AIC:68.86042867620151\n",
      "ARIMA(1, 0, 0)x(1, 1, 1, 12) - AIC:64.04191665128283\n",
      "ARIMA(1, 0, 1)x(0, 0, 0, 12) - AIC:134.4800482487812\n",
      "ARIMA(1, 0, 1)x(0, 0, 1, 12) - AIC:88.5719030607704\n",
      "ARIMA(1, 0, 1)x(0, 1, 0, 12) - AIC:125.73822091029142\n",
      "ARIMA(1, 0, 1)x(0, 1, 1, 12) - AIC:61.76198441705924\n",
      "ARIMA(1, 0, 1)x(1, 0, 0, 12) - AIC:96.81284562343487\n",
      "ARIMA(1, 0, 1)x(1, 0, 1, 12) - AIC:90.44927502411379\n",
      "ARIMA(1, 0, 1)x(1, 1, 0, 12) - AIC:70.11524928539009\n",
      "ARIMA(1, 0, 1)x(1, 1, 1, 12) - AIC:63.7620288021174\n",
      "ARIMA(1, 1, 0)x(0, 0, 0, 12) - AIC:138.95436463314292\n",
      "ARIMA(1, 1, 0)x(0, 0, 1, 12) - AIC:93.25396251725942\n",
      "ARIMA(1, 1, 0)x(0, 1, 0, 12) - AIC:132.8755627907225\n",
      "ARIMA(1, 1, 0)x(0, 1, 1, 12) - AIC:67.34398335804453\n",
      "ARIMA(1, 1, 0)x(1, 0, 0, 12) - AIC:93.22326528667823\n",
      "ARIMA(1, 1, 0)x(1, 0, 1, 12) - AIC:95.13865775003511\n",
      "ARIMA(1, 1, 0)x(1, 1, 0, 12) - AIC:74.4263104246307\n",
      "ARIMA(1, 1, 0)x(1, 1, 1, 12) - AIC:69.34397470785326\n",
      "ARIMA(1, 1, 1)x(0, 0, 0, 12) - AIC:118.60790725091859\n",
      "ARIMA(1, 1, 1)x(0, 0, 1, 12) - AIC:88.56791281550278\n",
      "ARIMA(1, 1, 1)x(0, 1, 0, 12) - AIC:129.98556988262013\n",
      "ARIMA(1, 1, 1)x(0, 1, 1, 12) - AIC:60.647398502180195\n",
      "ARIMA(1, 1, 1)x(1, 0, 0, 12) - AIC:88.57615645435538\n"
     ]
    },
    {
     "name": "stderr",
     "output_type": "stream",
     "text": [
      "F:\\anaconda\\lib\\site-packages\\statsmodels\\base\\model.py:568: ConvergenceWarning: Maximum Likelihood optimization failed to converge. Check mle_retvals\n",
      "  ConvergenceWarning)\n"
     ]
    },
    {
     "name": "stdout",
     "output_type": "stream",
     "text": [
      "ARIMA(1, 1, 1)x(1, 0, 1, 12) - AIC:90.46215276928426\n",
      "ARIMA(1, 1, 1)x(1, 1, 0, 12) - AIC:72.70857461346196\n",
      "ARIMA(1, 1, 1)x(1, 1, 1, 12) - AIC:61.44235814477808\n"
     ]
    },
    {
     "name": "stderr",
     "output_type": "stream",
     "text": [
      "F:\\anaconda\\lib\\site-packages\\statsmodels\\base\\model.py:568: ConvergenceWarning: Maximum Likelihood optimization failed to converge. Check mle_retvals\n",
      "  ConvergenceWarning)\n"
     ]
    }
   ],
   "source": [
    "subcatin = input()\n",
    "y=forecastSubCategory(subcatin)"
   ]
  },
  {
   "cell_type": "code",
   "execution_count": 146,
   "metadata": {},
   "outputs": [
    {
     "name": "stdout",
     "output_type": "stream",
     "text": [
      "==============================================================================\n",
      "                 coef    std err          z      P>|z|      [0.025      0.975]\n",
      "------------------------------------------------------------------------------\n",
      "ma.L1         -0.6331      0.280     -2.259      0.024      -1.182      -0.084\n",
      "ma.S.L12      -1.0000   2.43e+04  -4.12e-05      1.000   -4.76e+04    4.76e+04\n",
      "sigma2         1.9443   4.72e+04   4.12e-05      1.000   -9.25e+04    9.25e+04\n",
      "==============================================================================\n"
     ]
    }
   ],
   "source": [
    "model = sm.tsa.statespace.SARIMAX(y, order=(0, 1, 1), seasonal_order=(0, 1, 1, 12), enforce_stationarity=False,\n",
    "                                            enforce_invertibility=False)\n",
    "modelResults = model.fit()\n",
    "print(modelResults.summary().tables[1])"
   ]
  },
  {
   "cell_type": "code",
   "execution_count": 147,
   "metadata": {},
   "outputs": [
    {
     "name": "stdout",
     "output_type": "stream",
     "text": [
      "            lower Quantity  upper Quantity\n",
      "Order_Date                                \n",
      "2017-01-01        1.630358        9.229876\n",
      "2017-02-01    -1954.658056     1965.274865\n",
      "2017-03-01        1.354832        9.597034\n",
      "2017-04-01        0.012557        7.036530\n",
      "2017-05-01        1.637421        9.078332\n",
      "2017-06-01       -0.234921        7.576522\n",
      "2017-07-01        0.203838        7.862606\n",
      "2017-08-01        2.563192        9.611855\n",
      "2017-09-01       -0.774238        5.705152\n",
      "2017-10-01        0.591702        6.967542\n",
      "2017-11-01       -1.685662        4.970036\n",
      "2017-12-01       -0.307377        6.056665\n"
     ]
    },
    {
     "data": {
      "image/png": "[encoded data removed]",
      "text/plain": [
       "<Figure size 432x288 with 1 Axes>"
      ]
     },
     "metadata": {
      "needs_background": "light"
     },
     "output_type": "display_data"
    }
   ],
   "source": [
    "predictions = modelResults.get_prediction(start=pd.to_datetime('2017-01-01'), dynamic=False)\n",
    "pred_ci = predictions.conf_int()\n",
    "print(pred_ci)\n",
    "trace = y['2014':].plot(label='Observed')\n",
    "predictions.predicted_mean.plot(ax=trace, label='Future Forecast', alpha=.7)\n",
    "trace.set_xlabel('Date')\n",
    "trace.set_ylabel('Sales')\n",
    "plt.legend()\n",
    "plt.show()"
   ]
  },
  {
   "cell_type": "code",
   "execution_count": 148,
   "metadata": {},
   "outputs": [
    {
     "name": "stdout",
     "output_type": "stream",
     "text": [
      "Mean Square Error: 3.076688811407301\n",
      "Root Mean Square Error: 1.754049261396983\n"
     ]
    }
   ],
   "source": [
    "y_predicted = predictions.predicted_mean\n",
    "y_true = y['2017-01-01':]\n",
    "mse = ((y_predicted - y_true)**2).mean()\n",
    "print('Mean Square Error:', mse)\n",
    "print('Root Mean Square Error:', np.sqrt(mse))"
   ]
  },
  {
   "cell_type": "code",
   "execution_count": 149,
   "metadata": {},
   "outputs": [
    {
     "name": "stdout",
     "output_type": "stream",
     "text": [
      "[5.                nan 3.33333333        nan 6.                nan\n",
      " 4.         1.5        2.         4.         2.66666667 3.25      ]\n",
      "[5.43011675 5.30840458 5.47593284 3.52454344 5.35787679 3.67080095\n",
      " 4.03322214 6.08752362 2.46545706 3.77962228 1.64218698 2.87464398]\n",
      "MAPE nan\n"
     ]
    }
   ],
   "source": [
    "actual, pred = np.array(y_true), np.array(y_predicted)\n",
    "print(actual)\n",
    "print(pred)\n",
    "print(\"MAPE\",np.mean(np.abs((actual - pred) / actual)) * 100)"
   ]
  },
  {
   "cell_type": "code",
   "execution_count": 150,
   "metadata": {},
   "outputs": [
    {
     "data": {
      "image/png": "[encoded data removed]",
      "text/plain": [
       "<Figure size 1152x288 with 1 Axes>"
      ]
     },
     "metadata": {
      "needs_background": "light"
     },
     "output_type": "display_data"
    }
   ],
   "source": [
    "futurePred = modelResults.get_forecast(steps=24)\n",
    "predCi = futurePred.conf_int()\n",
    "ax = y.plot(label='Observed', figsize=(16, 4))\n",
    "futurePred.predicted_mean.plot(ax=ax, label='Forecast')\n",
    "ax.fill_between(predCi.index,\n",
    "                predCi.iloc[:, 0],\n",
    "                predCi.iloc[:, 1], color='k', alpha=.25)\n",
    "ax.set_xlabel('Date')\n",
    "ax.set_ylabel('{} Sales'.format(subcatin))\n",
    "plt.legend()\n",
    "plt.show()"
   ]
  },
  {
   "cell_type": "code",
   "execution_count": 151,
   "metadata": {},
   "outputs": [
    {
     "data": {
      "text/plain": [
       "2018-01-01    4.233752\n",
       "2018-02-01    3.809211\n",
       "2018-03-01    3.384669\n",
       "2018-04-01    2.872099\n",
       "2018-05-01    5.016256\n",
       "2018-06-01    2.451955\n",
       "2018-07-01    3.234377\n",
       "2018-08-01    3.687474\n",
       "2018-09-01    2.796194\n",
       "2018-10-01    4.421193\n",
       "2018-11-01    2.484455\n",
       "2018-12-01    3.233694\n",
       "2019-01-01    4.392754\n",
       "2019-02-01    3.968212\n",
       "2019-03-01    3.543670\n",
       "2019-04-01    3.031100\n",
       "2019-05-01    5.175257\n",
       "2019-06-01    2.610956\n",
       "2019-07-01    3.393378\n",
       "2019-08-01    3.846475\n",
       "2019-09-01    2.955196\n",
       "2019-10-01    4.580195\n",
       "2019-11-01    2.643456\n",
       "2019-12-01    3.392695\n",
       "Freq: MS, Name: predicted_mean, dtype: float64"
      ]
     },
     "execution_count": 151,
     "metadata": {},
     "output_type": "execute_result"
    }
   ],
   "source": [
    "y_forecasted = futurePred.predicted_mean\n",
    "y_forecasted.head(24)"
   ]
  },
  {
   "cell_type": "code",
   "execution_count": 19,
   "metadata": {},
   "outputs": [],
   "source": [
    "import json"
   ]
  },
  {
   "cell_type": "code",
   "execution_count": 152,
   "metadata": {},
   "outputs": [
    {
     "name": "stdout",
     "output_type": "stream",
     "text": [
      "{'2018-01-01': 4.2337522067580835, '2018-02-01': 3.80921058849894, '2018-03-01': 3.3846689698668317, '2018-04-01': 2.872098835632315, '2018-05-01': 5.016255918393424, '2018-06-01': 2.451954783226206, '2018-07-01': 3.2343769182675386, '2018-08-01': 3.6874735215805927, '2018-09-01': 2.796194125639163, '2018-10-01': 4.421193137457886, '2018-11-01': 2.4844545947546917, '2018-12-01': 3.23369378728467, '2019-01-01': 4.3927536940154095, '2019-02-01': 3.968212075756266, '2019-03-01': 3.5436704571241577, '2019-04-01': 3.031100322889641, '2019-05-01': 5.1752574056507505, '2019-06-01': 2.610956270483532, '2019-07-01': 3.3933784055248646, '2019-08-01': 3.8464750088379187, '2019-09-01': 2.95519561289649, '2019-10-01': 4.580194624715212, '2019-11-01': 2.6434560820120176, '2019-12-01': 3.392695274541996}\n"
     ]
    }
   ],
   "source": [
    "y_forecasted_dic = dict(zip(y_forecasted.index.strftime(\"%Y-%m-%d\"),y_forecasted.values))\n",
    "print(y_forecasted_dic)\n",
    "with open(\"{}_forecast.json\".format(subcatin), \"w\") as outfile: \n",
    "    json.dump(y_forecasted_dic, outfile)"
   ]
  },
  {
   "cell_type": "code",
   "execution_count": 153,
   "metadata": {},
   "outputs": [
    {
     "data": {
      "text/plain": [
       "17"
      ]
     },
     "execution_count": 153,
     "metadata": {},
     "output_type": "execute_result"
    }
   ],
   "source": [
    "ls = [\"Bookcases\",\"Chairs\",\"Labels\",\"Tables\",\"Storage\",\"Furnishings\",\"Art\",\"Phones\",\"Binders\",\"Appliances\",\"Paper\",\"Accessories\",\"Envelopes\",\"Fasteners\",\"Supplies\",\"Machines\",\"Copiers\"]\n",
    "len(ls)"
   ]
  },
  {
   "cell_type": "code",
   "execution_count": 154,
   "metadata": {},
   "outputs": [
    {
     "data": {
      "text/plain": [
       "2.2309757018926715"
      ]
     },
     "execution_count": 154,
     "metadata": {},
     "output_type": "execute_result"
    }
   ],
   "source": [
    "mean_mse = [0.6717577842052145,0.8537774254520566,1.5413263874061638,2.8585941960753254,\n",
    "            1.0134206940707793,2.4383581262250247,2.473028832073577,0.8032565000845265,\n",
    "            1.1771520720228876,0.7741281286404135,3.5047297392761476,1.2276217061478116,1.3410172404837246,\n",
    "            3.5245378780995633,3.7757075361042856,6.871483874400613,3.076688811407301\n",
    "           ]\n",
    "np.mean(mean_mse)"
   ]
  },
  {
   "cell_type": "code",
   "execution_count": 155,
   "metadata": {},
   "outputs": [
    {
     "data": {
      "text/plain": [
       "1.412452673459382"
      ]
     },
     "execution_count": 155,
     "metadata": {},
     "output_type": "execute_result"
    }
   ],
   "source": [
    "mean_rmse = [0.8196083114544499,0.9240007713481935,1.2415016662921414,1.6907377667974788,\n",
    "            1.0066879824805595,1.5615242957523987,1.5725866691771162,0.8962457810693039,\n",
    "             1.0849663921167731,0.8798455140764277,1.8720923426145804,1.1079809141622483,\n",
    "             1.1580229878908814,1.8773752629934068,1.9431179933561127,2.621351535830441,\n",
    "             1.754049261396983\n",
    "            ]\n",
    "np.mean(mean_rmse)"
   ]
  },
  {
   "cell_type": "code",
   "execution_count": null,
   "metadata": {},
   "outputs": [],
   "source": [
    "mean_Mape = [22.730463594245577,13.695795461727982,21.08634260821859,26.220909109820262,16.09758435401679,28.96544984673576,\n",
    "            21.260844402610356,12.586977282052372,10.021908410567573,14.82210657651611,16.412207219160823,14.36296895435536,\n",
    "             24.88289341627827,\n",
    "            ]"
   ]
  }
 ],
 "metadata": {
  "kernelspec": {
   "display_name": "Python 3",
   "language": "python",
   "name": "python3"
  },
  "language_info": {
   "codemirror_mode": {
    "name": "ipython",
    "version": 3
   },
   "file_extension": ".py",
   "mimetype": "text/x-python",
   "name": "python",
   "nbconvert_exporter": "python",
   "pygments_lexer": "ipython3",
   "version": "3.7.3"
  }
 },
 "nbformat": 4,
 "nbformat_minor": 4
}
