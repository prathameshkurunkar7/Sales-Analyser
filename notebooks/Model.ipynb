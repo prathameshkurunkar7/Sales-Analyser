{
 "cells": [
  {
   "cell_type": "code",
   "execution_count": 1,
   "metadata": {},
   "outputs": [],
   "source": [
    "import numpy as np\n",
    "import pandas as pd\n",
    "import matplotlib.pyplot as plt\n",
    "import itertools\n",
    "# import statsmodels.api as sm"
   ]
  },
  {
   "cell_type": "code",
   "execution_count": 2,
   "metadata": {},
   "outputs": [],
   "source": [
    "%matplotlib inline"
   ]
  },
  {
   "cell_type": "code",
   "execution_count": 3,
   "metadata": {},
   "outputs": [
    {
     "data": {
      "text/html": [
       "<div>\n",
       "<style scoped>\n",
       "    .dataframe tbody tr th:only-of-type {\n",
       "        vertical-align: middle;\n",
       "    }\n",
       "\n",
       "    .dataframe tbody tr th {\n",
       "        vertical-align: top;\n",
       "    }\n",
       "\n",
       "    .dataframe thead th {\n",
       "        text-align: right;\n",
       "    }\n",
       "</style>\n",
       "<table border=\"1\" class=\"dataframe\">\n",
       "  <thead>\n",
       "    <tr style=\"text-align: right;\">\n",
       "      <th></th>\n",
       "      <th>Row_ID</th>\n",
       "      <th>Order_Date</th>\n",
       "      <th>Customer_Name</th>\n",
       "      <th>City</th>\n",
       "      <th>Region</th>\n",
       "      <th>Category</th>\n",
       "      <th>Sub_Category</th>\n",
       "      <th>Product_Name</th>\n",
       "      <th>Sales</th>\n",
       "      <th>Quantity</th>\n",
       "      <th>Discount</th>\n",
       "      <th>Profit</th>\n",
       "      <th>Temperature</th>\n",
       "      <th>Is_Holiday</th>\n",
       "      <th>Fuel_Price</th>\n",
       "    </tr>\n",
       "  </thead>\n",
       "  <tbody>\n",
       "    <tr>\n",
       "      <th>0</th>\n",
       "      <td>1</td>\n",
       "      <td>2016-11-08</td>\n",
       "      <td>Claire Gute</td>\n",
       "      <td>Henderson</td>\n",
       "      <td>South</td>\n",
       "      <td>Furniture</td>\n",
       "      <td>Bookcases</td>\n",
       "      <td>Bush Somerset Collection Bookcase</td>\n",
       "      <td>261.9600</td>\n",
       "      <td>2</td>\n",
       "      <td>0.00</td>\n",
       "      <td>41.9136</td>\n",
       "      <td>42.31</td>\n",
       "      <td>False</td>\n",
       "      <td>2.572</td>\n",
       "    </tr>\n",
       "    <tr>\n",
       "      <th>1</th>\n",
       "      <td>2</td>\n",
       "      <td>2016-11-08</td>\n",
       "      <td>Claire Gute</td>\n",
       "      <td>Henderson</td>\n",
       "      <td>South</td>\n",
       "      <td>Furniture</td>\n",
       "      <td>Chairs</td>\n",
       "      <td>Hon Deluxe Fabric Upholstered Stacking Chairs,...</td>\n",
       "      <td>731.9400</td>\n",
       "      <td>3</td>\n",
       "      <td>0.00</td>\n",
       "      <td>219.5820</td>\n",
       "      <td>38.51</td>\n",
       "      <td>False</td>\n",
       "      <td>2.548</td>\n",
       "    </tr>\n",
       "    <tr>\n",
       "      <th>2</th>\n",
       "      <td>3</td>\n",
       "      <td>2016-06-12</td>\n",
       "      <td>Darrin Van Huff</td>\n",
       "      <td>Los Angeles</td>\n",
       "      <td>West</td>\n",
       "      <td>Office Supplies</td>\n",
       "      <td>Labels</td>\n",
       "      <td>Self-Adhesive Address Labels for Typewriters b...</td>\n",
       "      <td>14.6200</td>\n",
       "      <td>2</td>\n",
       "      <td>0.00</td>\n",
       "      <td>6.8714</td>\n",
       "      <td>39.93</td>\n",
       "      <td>False</td>\n",
       "      <td>2.514</td>\n",
       "    </tr>\n",
       "    <tr>\n",
       "      <th>3</th>\n",
       "      <td>4</td>\n",
       "      <td>2015-10-11</td>\n",
       "      <td>Sean O'Donnell</td>\n",
       "      <td>Fort Lauderdale</td>\n",
       "      <td>South</td>\n",
       "      <td>Furniture</td>\n",
       "      <td>Tables</td>\n",
       "      <td>Bretford CR4500 Series Slim Rectangular Table</td>\n",
       "      <td>957.5775</td>\n",
       "      <td>5</td>\n",
       "      <td>0.45</td>\n",
       "      <td>-383.0310</td>\n",
       "      <td>46.63</td>\n",
       "      <td>True</td>\n",
       "      <td>2.561</td>\n",
       "    </tr>\n",
       "    <tr>\n",
       "      <th>4</th>\n",
       "      <td>5</td>\n",
       "      <td>2015-10-11</td>\n",
       "      <td>Sean O'Donnell</td>\n",
       "      <td>Fort Lauderdale</td>\n",
       "      <td>South</td>\n",
       "      <td>Office Supplies</td>\n",
       "      <td>Storage</td>\n",
       "      <td>Eldon Fold 'N Roll Cart System</td>\n",
       "      <td>22.3680</td>\n",
       "      <td>2</td>\n",
       "      <td>0.20</td>\n",
       "      <td>2.5164</td>\n",
       "      <td>46.50</td>\n",
       "      <td>False</td>\n",
       "      <td>2.625</td>\n",
       "    </tr>\n",
       "  </tbody>\n",
       "</table>\n",
       "</div>"
      ],
      "text/plain": [
       "   Row_ID Order_Date    Customer_Name             City Region  \\\n",
       "0       1 2016-11-08      Claire Gute        Henderson  South   \n",
       "1       2 2016-11-08      Claire Gute        Henderson  South   \n",
       "2       3 2016-06-12  Darrin Van Huff      Los Angeles   West   \n",
       "3       4 2015-10-11   Sean O'Donnell  Fort Lauderdale  South   \n",
       "4       5 2015-10-11   Sean O'Donnell  Fort Lauderdale  South   \n",
       "\n",
       "          Category Sub_Category  \\\n",
       "0        Furniture    Bookcases   \n",
       "1        Furniture       Chairs   \n",
       "2  Office Supplies       Labels   \n",
       "3        Furniture       Tables   \n",
       "4  Office Supplies      Storage   \n",
       "\n",
       "                                        Product_Name     Sales  Quantity  \\\n",
       "0                  Bush Somerset Collection Bookcase  261.9600         2   \n",
       "1  Hon Deluxe Fabric Upholstered Stacking Chairs,...  731.9400         3   \n",
       "2  Self-Adhesive Address Labels for Typewriters b...   14.6200         2   \n",
       "3      Bretford CR4500 Series Slim Rectangular Table  957.5775         5   \n",
       "4                     Eldon Fold 'N Roll Cart System   22.3680         2   \n",
       "\n",
       "   Discount    Profit  Temperature  Is_Holiday  Fuel_Price  \n",
       "0      0.00   41.9136        42.31       False       2.572  \n",
       "1      0.00  219.5820        38.51       False       2.548  \n",
       "2      0.00    6.8714        39.93       False       2.514  \n",
       "3      0.45 -383.0310        46.63        True       2.561  \n",
       "4      0.20    2.5164        46.50       False       2.625  "
      ]
     },
     "execution_count": 3,
     "metadata": {},
     "output_type": "execute_result"
    }
   ],
   "source": [
    "data = pd.read_excel('../sales.xls')\n",
    "data.head()"
   ]
  },
  {
   "cell_type": "code",
   "execution_count": 4,
   "metadata": {},
   "outputs": [
    {
     "data": {
      "text/plain": [
       "{'Furniture', 'Office Supplies', 'Technology'}"
      ]
     },
     "execution_count": 4,
     "metadata": {},
     "output_type": "execute_result"
    }
   ],
   "source": [
    "set(data['Category'])"
   ]
  },
  {
   "cell_type": "markdown",
   "metadata": {},
   "source": [
    "# Furniture"
   ]
  },
  {
   "cell_type": "code",
   "execution_count": 5,
   "metadata": {},
   "outputs": [],
   "source": [
    "df_furniture = data.loc[data['Category'] == 'Furniture']"
   ]
  },
  {
   "cell_type": "code",
   "execution_count": 6,
   "metadata": {},
   "outputs": [
    {
     "data": {
      "text/html": [
       "<div>\n",
       "<style scoped>\n",
       "    .dataframe tbody tr th:only-of-type {\n",
       "        vertical-align: middle;\n",
       "    }\n",
       "\n",
       "    .dataframe tbody tr th {\n",
       "        vertical-align: top;\n",
       "    }\n",
       "\n",
       "    .dataframe thead th {\n",
       "        text-align: right;\n",
       "    }\n",
       "</style>\n",
       "<table border=\"1\" class=\"dataframe\">\n",
       "  <thead>\n",
       "    <tr style=\"text-align: right;\">\n",
       "      <th></th>\n",
       "      <th>Row_ID</th>\n",
       "      <th>Order_Date</th>\n",
       "      <th>Customer_Name</th>\n",
       "      <th>City</th>\n",
       "      <th>Region</th>\n",
       "      <th>Category</th>\n",
       "      <th>Sub_Category</th>\n",
       "      <th>Product_Name</th>\n",
       "      <th>Sales</th>\n",
       "      <th>Quantity</th>\n",
       "      <th>Discount</th>\n",
       "      <th>Profit</th>\n",
       "      <th>Temperature</th>\n",
       "      <th>Is_Holiday</th>\n",
       "      <th>Fuel_Price</th>\n",
       "    </tr>\n",
       "  </thead>\n",
       "  <tbody>\n",
       "    <tr>\n",
       "      <th>0</th>\n",
       "      <td>1</td>\n",
       "      <td>2016-11-08</td>\n",
       "      <td>Claire Gute</td>\n",
       "      <td>Henderson</td>\n",
       "      <td>South</td>\n",
       "      <td>Furniture</td>\n",
       "      <td>Bookcases</td>\n",
       "      <td>Bush Somerset Collection Bookcase</td>\n",
       "      <td>261.9600</td>\n",
       "      <td>2</td>\n",
       "      <td>0.00</td>\n",
       "      <td>41.9136</td>\n",
       "      <td>42.31</td>\n",
       "      <td>False</td>\n",
       "      <td>2.572</td>\n",
       "    </tr>\n",
       "    <tr>\n",
       "      <th>1</th>\n",
       "      <td>2</td>\n",
       "      <td>2016-11-08</td>\n",
       "      <td>Claire Gute</td>\n",
       "      <td>Henderson</td>\n",
       "      <td>South</td>\n",
       "      <td>Furniture</td>\n",
       "      <td>Chairs</td>\n",
       "      <td>Hon Deluxe Fabric Upholstered Stacking Chairs,...</td>\n",
       "      <td>731.9400</td>\n",
       "      <td>3</td>\n",
       "      <td>0.00</td>\n",
       "      <td>219.5820</td>\n",
       "      <td>38.51</td>\n",
       "      <td>False</td>\n",
       "      <td>2.548</td>\n",
       "    </tr>\n",
       "    <tr>\n",
       "      <th>3</th>\n",
       "      <td>4</td>\n",
       "      <td>2015-10-11</td>\n",
       "      <td>Sean O'Donnell</td>\n",
       "      <td>Fort Lauderdale</td>\n",
       "      <td>South</td>\n",
       "      <td>Furniture</td>\n",
       "      <td>Tables</td>\n",
       "      <td>Bretford CR4500 Series Slim Rectangular Table</td>\n",
       "      <td>957.5775</td>\n",
       "      <td>5</td>\n",
       "      <td>0.45</td>\n",
       "      <td>-383.0310</td>\n",
       "      <td>46.63</td>\n",
       "      <td>True</td>\n",
       "      <td>2.561</td>\n",
       "    </tr>\n",
       "    <tr>\n",
       "      <th>5</th>\n",
       "      <td>6</td>\n",
       "      <td>2014-06-09</td>\n",
       "      <td>Brosina Hoffman</td>\n",
       "      <td>Los Angeles</td>\n",
       "      <td>West</td>\n",
       "      <td>Furniture</td>\n",
       "      <td>Furnishings</td>\n",
       "      <td>Eldon Expressions Wood and Plastic Desk Access...</td>\n",
       "      <td>48.8600</td>\n",
       "      <td>7</td>\n",
       "      <td>0.00</td>\n",
       "      <td>14.1694</td>\n",
       "      <td>57.79</td>\n",
       "      <td>False</td>\n",
       "      <td>2.667</td>\n",
       "    </tr>\n",
       "    <tr>\n",
       "      <th>10</th>\n",
       "      <td>11</td>\n",
       "      <td>2014-06-09</td>\n",
       "      <td>Brosina Hoffman</td>\n",
       "      <td>Los Angeles</td>\n",
       "      <td>West</td>\n",
       "      <td>Furniture</td>\n",
       "      <td>Tables</td>\n",
       "      <td>Chromcraft Rectangular Conference Tables</td>\n",
       "      <td>1706.1840</td>\n",
       "      <td>9</td>\n",
       "      <td>0.20</td>\n",
       "      <td>85.3092</td>\n",
       "      <td>66.32</td>\n",
       "      <td>False</td>\n",
       "      <td>2.808</td>\n",
       "    </tr>\n",
       "  </tbody>\n",
       "</table>\n",
       "</div>"
      ],
      "text/plain": [
       "    Row_ID Order_Date    Customer_Name             City Region   Category  \\\n",
       "0        1 2016-11-08      Claire Gute        Henderson  South  Furniture   \n",
       "1        2 2016-11-08      Claire Gute        Henderson  South  Furniture   \n",
       "3        4 2015-10-11   Sean O'Donnell  Fort Lauderdale  South  Furniture   \n",
       "5        6 2014-06-09  Brosina Hoffman      Los Angeles   West  Furniture   \n",
       "10      11 2014-06-09  Brosina Hoffman      Los Angeles   West  Furniture   \n",
       "\n",
       "   Sub_Category                                       Product_Name      Sales  \\\n",
       "0     Bookcases                  Bush Somerset Collection Bookcase   261.9600   \n",
       "1        Chairs  Hon Deluxe Fabric Upholstered Stacking Chairs,...   731.9400   \n",
       "3        Tables      Bretford CR4500 Series Slim Rectangular Table   957.5775   \n",
       "5   Furnishings  Eldon Expressions Wood and Plastic Desk Access...    48.8600   \n",
       "10       Tables           Chromcraft Rectangular Conference Tables  1706.1840   \n",
       "\n",
       "    Quantity  Discount    Profit  Temperature  Is_Holiday  Fuel_Price  \n",
       "0          2      0.00   41.9136        42.31       False       2.572  \n",
       "1          3      0.00  219.5820        38.51       False       2.548  \n",
       "3          5      0.45 -383.0310        46.63        True       2.561  \n",
       "5          7      0.00   14.1694        57.79       False       2.667  \n",
       "10         9      0.20   85.3092        66.32       False       2.808  "
      ]
     },
     "execution_count": 6,
     "metadata": {},
     "output_type": "execute_result"
    }
   ],
   "source": [
    "df_furniture.head()"
   ]
  },
  {
   "cell_type": "code",
   "execution_count": 7,
   "metadata": {},
   "outputs": [
    {
     "data": {
      "text/plain": [
       "Index(['Row_ID', 'Order_Date', 'Customer_Name', 'City', 'Region', 'Category',\n",
       "       'Sub_Category', 'Product_Name', 'Sales', 'Quantity', 'Discount',\n",
       "       'Profit', 'Temperature', 'Is_Holiday', 'Fuel_Price'],\n",
       "      dtype='object')"
      ]
     },
     "execution_count": 7,
     "metadata": {},
     "output_type": "execute_result"
    }
   ],
   "source": [
    "data.columns"
   ]
  },
  {
   "cell_type": "code",
   "execution_count": 8,
   "metadata": {},
   "outputs": [
    {
     "name": "stderr",
     "output_type": "stream",
     "text": [
      "F:\\anaconda\\lib\\site-packages\\pandas\\core\\frame.py:4170: SettingWithCopyWarning: \n",
      "A value is trying to be set on a copy of a slice from a DataFrame\n",
      "\n",
      "See the caveats in the documentation: https://pandas.pydata.org/pandas-docs/stable/user_guide/indexing.html#returning-a-view-versus-a-copy\n",
      "  errors=errors,\n"
     ]
    }
   ],
   "source": [
    "var_column = ['Row_ID', 'Customer_Name', 'City', 'Region', 'Category',\n",
    "       'Sub_Category', 'Product_Name', 'Sales', 'Discount',\n",
    "       'Profit', 'Temperature', 'Is_Holiday', 'Fuel_Price']\n",
    "df_furniture.drop(var_column, axis=1, inplace=True)"
   ]
  },
  {
   "cell_type": "code",
   "execution_count": 9,
   "metadata": {},
   "outputs": [
    {
     "data": {
      "text/html": [
       "<div>\n",
       "<style scoped>\n",
       "    .dataframe tbody tr th:only-of-type {\n",
       "        vertical-align: middle;\n",
       "    }\n",
       "\n",
       "    .dataframe tbody tr th {\n",
       "        vertical-align: top;\n",
       "    }\n",
       "\n",
       "    .dataframe thead th {\n",
       "        text-align: right;\n",
       "    }\n",
       "</style>\n",
       "<table border=\"1\" class=\"dataframe\">\n",
       "  <thead>\n",
       "    <tr style=\"text-align: right;\">\n",
       "      <th></th>\n",
       "      <th>Order_Date</th>\n",
       "      <th>Quantity</th>\n",
       "    </tr>\n",
       "  </thead>\n",
       "  <tbody>\n",
       "    <tr>\n",
       "      <th>0</th>\n",
       "      <td>2016-11-08</td>\n",
       "      <td>2</td>\n",
       "    </tr>\n",
       "    <tr>\n",
       "      <th>1</th>\n",
       "      <td>2016-11-08</td>\n",
       "      <td>3</td>\n",
       "    </tr>\n",
       "    <tr>\n",
       "      <th>3</th>\n",
       "      <td>2015-10-11</td>\n",
       "      <td>5</td>\n",
       "    </tr>\n",
       "    <tr>\n",
       "      <th>5</th>\n",
       "      <td>2014-06-09</td>\n",
       "      <td>7</td>\n",
       "    </tr>\n",
       "    <tr>\n",
       "      <th>10</th>\n",
       "      <td>2014-06-09</td>\n",
       "      <td>9</td>\n",
       "    </tr>\n",
       "  </tbody>\n",
       "</table>\n",
       "</div>"
      ],
      "text/plain": [
       "   Order_Date  Quantity\n",
       "0  2016-11-08         2\n",
       "1  2016-11-08         3\n",
       "3  2015-10-11         5\n",
       "5  2014-06-09         7\n",
       "10 2014-06-09         9"
      ]
     },
     "execution_count": 9,
     "metadata": {},
     "output_type": "execute_result"
    }
   ],
   "source": [
    "df_furniture.head()"
   ]
  },
  {
   "cell_type": "code",
   "execution_count": 10,
   "metadata": {},
   "outputs": [
    {
     "data": {
      "text/html": [
       "<div>\n",
       "<style scoped>\n",
       "    .dataframe tbody tr th:only-of-type {\n",
       "        vertical-align: middle;\n",
       "    }\n",
       "\n",
       "    .dataframe tbody tr th {\n",
       "        vertical-align: top;\n",
       "    }\n",
       "\n",
       "    .dataframe thead th {\n",
       "        text-align: right;\n",
       "    }\n",
       "</style>\n",
       "<table border=\"1\" class=\"dataframe\">\n",
       "  <thead>\n",
       "    <tr style=\"text-align: right;\">\n",
       "      <th></th>\n",
       "      <th>Order_Date</th>\n",
       "      <th>Quantity</th>\n",
       "    </tr>\n",
       "  </thead>\n",
       "  <tbody>\n",
       "    <tr>\n",
       "      <th>7474</th>\n",
       "      <td>2014-01-06</td>\n",
       "      <td>9</td>\n",
       "    </tr>\n",
       "    <tr>\n",
       "      <th>7660</th>\n",
       "      <td>2014-01-07</td>\n",
       "      <td>3</td>\n",
       "    </tr>\n",
       "    <tr>\n",
       "      <th>866</th>\n",
       "      <td>2014-01-10</td>\n",
       "      <td>1</td>\n",
       "    </tr>\n",
       "    <tr>\n",
       "      <th>716</th>\n",
       "      <td>2014-01-11</td>\n",
       "      <td>2</td>\n",
       "    </tr>\n",
       "    <tr>\n",
       "      <th>2978</th>\n",
       "      <td>2014-01-13</td>\n",
       "      <td>6</td>\n",
       "    </tr>\n",
       "    <tr>\n",
       "      <th>...</th>\n",
       "      <td>...</td>\n",
       "      <td>...</td>\n",
       "    </tr>\n",
       "    <tr>\n",
       "      <th>7636</th>\n",
       "      <td>2017-12-29</td>\n",
       "      <td>3</td>\n",
       "    </tr>\n",
       "    <tr>\n",
       "      <th>7632</th>\n",
       "      <td>2017-12-29</td>\n",
       "      <td>8</td>\n",
       "    </tr>\n",
       "    <tr>\n",
       "      <th>5131</th>\n",
       "      <td>2017-12-29</td>\n",
       "      <td>8</td>\n",
       "    </tr>\n",
       "    <tr>\n",
       "      <th>7635</th>\n",
       "      <td>2017-12-29</td>\n",
       "      <td>1</td>\n",
       "    </tr>\n",
       "    <tr>\n",
       "      <th>906</th>\n",
       "      <td>2017-12-30</td>\n",
       "      <td>4</td>\n",
       "    </tr>\n",
       "  </tbody>\n",
       "</table>\n",
       "<p>2121 rows × 2 columns</p>\n",
       "</div>"
      ],
      "text/plain": [
       "     Order_Date  Quantity\n",
       "7474 2014-01-06         9\n",
       "7660 2014-01-07         3\n",
       "866  2014-01-10         1\n",
       "716  2014-01-11         2\n",
       "2978 2014-01-13         6\n",
       "...         ...       ...\n",
       "7636 2017-12-29         3\n",
       "7632 2017-12-29         8\n",
       "5131 2017-12-29         8\n",
       "7635 2017-12-29         1\n",
       "906  2017-12-30         4\n",
       "\n",
       "[2121 rows x 2 columns]"
      ]
     },
     "execution_count": 10,
     "metadata": {},
     "output_type": "execute_result"
    }
   ],
   "source": [
    "df_furniture.sort_values('Order_Date')"
   ]
  },
  {
   "cell_type": "code",
   "execution_count": 11,
   "metadata": {},
   "outputs": [
    {
     "data": {
      "text/plain": [
       "Order_Date    0\n",
       "Quantity      0\n",
       "dtype: int64"
      ]
     },
     "execution_count": 11,
     "metadata": {},
     "output_type": "execute_result"
    }
   ],
   "source": [
    "df_furniture.isna().sum()"
   ]
  },
  {
   "cell_type": "code",
   "execution_count": 12,
   "metadata": {},
   "outputs": [],
   "source": [
    "df_furniture = df_furniture.groupby('Order_Date')['Quantity'].sum().reset_index()"
   ]
  },
  {
   "cell_type": "code",
   "execution_count": 13,
   "metadata": {},
   "outputs": [],
   "source": [
    "df_furniture = df_furniture.set_index('Order_Date')"
   ]
  },
  {
   "cell_type": "code",
   "execution_count": 14,
   "metadata": {},
   "outputs": [
    {
     "data": {
      "text/plain": [
       "Order_Date\n",
       "2014-01-01     5.384615\n",
       "2014-02-01     4.600000\n",
       "2014-03-01     7.705882\n",
       "2014-04-01     5.785714\n",
       "2014-05-01     6.062500\n",
       "2014-06-01     6.421053\n",
       "2014-07-01     6.333333\n",
       "2014-08-01     6.687500\n",
       "2014-09-01     8.666667\n",
       "2014-10-01     8.125000\n",
       "2014-11-01    10.363636\n",
       "2014-12-01    15.600000\n",
       "2015-01-01     7.333333\n",
       "2015-02-01     7.500000\n",
       "2015-03-01     6.937500\n",
       "2015-04-01     8.230769\n",
       "2015-05-01     8.400000\n",
       "2015-06-01     6.222222\n",
       "2015-07-01     8.526316\n",
       "2015-08-01     7.000000\n",
       "2015-09-01    10.789474\n",
       "2015-10-01     7.368421\n",
       "2015-11-01    12.916667\n",
       "2015-12-01    11.681818\n",
       "2016-01-01     6.733333\n",
       "2016-02-01     6.272727\n",
       "2016-03-01     7.714286\n",
       "2016-04-01     7.684211\n",
       "2016-05-01     8.227273\n",
       "2016-06-01     8.000000\n",
       "2016-07-01     9.352941\n",
       "2016-08-01     6.764706\n",
       "2016-09-01    11.833333\n",
       "2016-10-01     9.842105\n",
       "2016-11-01    12.720000\n",
       "2016-12-01    13.192308\n",
       "2017-01-01     5.733333\n",
       "2017-02-01     5.461538\n",
       "2017-03-01     6.150000\n",
       "2017-04-01     8.750000\n",
       "2017-05-01     7.360000\n",
       "2017-06-01     7.652174\n",
       "2017-07-01     8.714286\n",
       "2017-08-01     7.055556\n",
       "2017-09-01    12.583333\n",
       "2017-10-01    10.080000\n",
       "2017-11-01    12.551724\n",
       "2017-12-01    15.760000\n",
       "Freq: MS, Name: Quantity, dtype: float64"
      ]
     },
     "execution_count": 14,
     "metadata": {},
     "output_type": "execute_result"
    }
   ],
   "source": [
    "y = df_furniture['Quantity'].resample('MS').mean()\n",
    "y"
   ]
  },
  {
   "cell_type": "code",
   "execution_count": 15,
   "metadata": {},
   "outputs": [
    {
     "data": {
      "text/plain": [
       "<AxesSubplot:xlabel='Order_Date'>"
      ]
     },
     "execution_count": 15,
     "metadata": {},
     "output_type": "execute_result"
    },
    {
     "data": {
      "image/png": "[encoded data removed]",
      "text/plain": [
       "<Figure size 432x288 with 1 Axes>"
      ]
     },
     "metadata": {
      "needs_background": "light"
     },
     "output_type": "display_data"
    }
   ],
   "source": [
    "y.plot()"
   ]
  },
  {
   "cell_type": "code",
   "execution_count": 16,
   "metadata": {},
   "outputs": [],
   "source": [
    "import statsmodels.api as sm"
   ]
  },
  {
   "cell_type": "code",
   "execution_count": 17,
   "metadata": {},
   "outputs": [
    {
     "data": {
      "image/png": "[encoded data removed]",
      "text/plain": [
       "<Figure size 432x288 with 4 Axes>"
      ]
     },
     "metadata": {
      "needs_background": "light"
     },
     "output_type": "display_data"
    }
   ],
   "source": [
    "decomposition = sm.tsa.seasonal_decompose(y, model='additive')\n",
    "decomposition.plot()\n",
    "plt.show()"
   ]
  },
  {
   "cell_type": "code",
   "execution_count": 18,
   "metadata": {},
   "outputs": [
    {
     "name": "stdout",
     "output_type": "stream",
     "text": [
      "Parameter Combinations:\n",
      "(0, 0, 1) x (0, 0, 1, 12)\n",
      "(0, 1, 0) x (0, 1, 0, 12)\n"
     ]
    }
   ],
   "source": [
    "p = d = q = range(0, 2)\n",
    "rangePDQ = list(itertools.product(p, d, q))\n",
    "seasonalPDQ = [(x[0], x[1], x[2], 12) for x in rangePDQ]\n",
    "\n",
    "print('Parameter Combinations:')\n",
    "print('{} x {}'.format(rangePDQ[1], seasonalPDQ[1]))\n",
    "print('{} x {}'.format(rangePDQ[2], seasonalPDQ[2]))"
   ]
  },
  {
   "cell_type": "code",
   "execution_count": 19,
   "metadata": {},
   "outputs": [
    {
     "name": "stdout",
     "output_type": "stream",
     "text": [
      "ARIMA(0, 0, 0)x(0, 0, 0, 12) - AIC:342.10305927042725\n",
      "ARIMA(0, 0, 0)x(0, 0, 1, 12) - AIC:1321.1170247265954\n",
      "ARIMA(0, 0, 0)x(0, 1, 0, 12) - AIC:131.2987370130599\n"
     ]
    },
    {
     "name": "stderr",
     "output_type": "stream",
     "text": [
      "F:\\anaconda\\lib\\site-packages\\statsmodels\\base\\model.py:568: ConvergenceWarning: Maximum Likelihood optimization failed to converge. Check mle_retvals\n",
      "  ConvergenceWarning)\n",
      "F:\\anaconda\\lib\\site-packages\\statsmodels\\tsa\\statespace\\sarimax.py:867: UserWarning: Too few observations to estimate starting parameters for seasonal ARMA. All parameters except for variances will be set to zeros.\n",
      "  ' zeros.' % warning_description)\n"
     ]
    },
    {
     "name": "stdout",
     "output_type": "stream",
     "text": [
      "ARIMA(0, 0, 0)x(0, 1, 1, 12) - AIC:74.42256034058184\n",
      "ARIMA(0, 0, 0)x(1, 0, 0, 12) - AIC:136.09982485334967\n",
      "ARIMA(0, 0, 0)x(1, 0, 1, 12) - AIC:1367.9294309257614\n",
      "ARIMA(0, 0, 0)x(1, 1, 0, 12) - AIC:76.85318058726884\n",
      "ARIMA(0, 0, 0)x(1, 1, 1, 12) - AIC:75.61608348630585\n",
      "ARIMA(0, 0, 1)x(0, 0, 0, 12) - AIC:296.9593547106127\n",
      "ARIMA(0, 0, 1)x(0, 0, 1, 12) - AIC:1444.9101778187983\n",
      "ARIMA(0, 0, 1)x(0, 1, 0, 12) - AIC:126.65423739679343\n",
      "ARIMA(0, 0, 1)x(0, 1, 1, 12) - AIC:73.4985045009795\n"
     ]
    },
    {
     "name": "stderr",
     "output_type": "stream",
     "text": [
      "F:\\anaconda\\lib\\site-packages\\statsmodels\\base\\model.py:568: ConvergenceWarning: Maximum Likelihood optimization failed to converge. Check mle_retvals\n",
      "  ConvergenceWarning)\n"
     ]
    },
    {
     "name": "stdout",
     "output_type": "stream",
     "text": [
      "ARIMA(0, 0, 1)x(1, 0, 0, 12) - AIC:137.85075751527737\n",
      "ARIMA(0, 0, 1)x(1, 0, 1, 12) - AIC:1329.2270575424939\n",
      "ARIMA(0, 0, 1)x(1, 1, 0, 12) - AIC:78.40968227455693\n",
      "ARIMA(0, 0, 1)x(1, 1, 1, 12) - AIC:74.73391293515674\n",
      "ARIMA(0, 1, 0)x(0, 0, 0, 12) - AIC:230.5517981307123\n",
      "ARIMA(0, 1, 0)x(0, 0, 1, 12) - AIC:1480.6115557033788\n",
      "ARIMA(0, 1, 0)x(0, 1, 0, 12) - AIC:152.73703497237543\n",
      "ARIMA(0, 1, 0)x(0, 1, 1, 12) - AIC:75.10745115402553\n",
      "ARIMA(0, 1, 0)x(1, 0, 0, 12) - AIC:152.52111265311635\n"
     ]
    },
    {
     "name": "stderr",
     "output_type": "stream",
     "text": [
      "F:\\anaconda\\lib\\site-packages\\statsmodels\\base\\model.py:568: ConvergenceWarning: Maximum Likelihood optimization failed to converge. Check mle_retvals\n",
      "  ConvergenceWarning)\n"
     ]
    },
    {
     "name": "stdout",
     "output_type": "stream",
     "text": [
      "ARIMA(0, 1, 0)x(1, 0, 1, 12) - AIC:1565.4006463767184\n",
      "ARIMA(0, 1, 0)x(1, 1, 0, 12) - AIC:80.14626710387452\n",
      "ARIMA(0, 1, 0)x(1, 1, 1, 12) - AIC:79.68304321167233\n",
      "ARIMA(0, 1, 1)x(0, 0, 0, 12) - AIC:218.06732041535258\n"
     ]
    },
    {
     "name": "stderr",
     "output_type": "stream",
     "text": [
      "F:\\anaconda\\lib\\site-packages\\statsmodels\\base\\model.py:568: ConvergenceWarning: Maximum Likelihood optimization failed to converge. Check mle_retvals\n",
      "  ConvergenceWarning)\n"
     ]
    },
    {
     "name": "stdout",
     "output_type": "stream",
     "text": [
      "ARIMA(0, 1, 1)x(0, 0, 1, 12) - AIC:1479.6289960356376\n",
      "ARIMA(0, 1, 1)x(0, 1, 0, 12) - AIC:125.21112708168877\n",
      "ARIMA(0, 1, 1)x(0, 1, 1, 12) - AIC:70.24877044527949\n",
      "ARIMA(0, 1, 1)x(1, 0, 0, 12) - AIC:134.53936515495676\n"
     ]
    },
    {
     "name": "stderr",
     "output_type": "stream",
     "text": [
      "F:\\anaconda\\lib\\site-packages\\statsmodels\\base\\model.py:568: ConvergenceWarning: Maximum Likelihood optimization failed to converge. Check mle_retvals\n",
      "  ConvergenceWarning)\n"
     ]
    },
    {
     "name": "stdout",
     "output_type": "stream",
     "text": [
      "ARIMA(0, 1, 1)x(1, 0, 1, 12) - AIC:1450.3767897540524\n",
      "ARIMA(0, 1, 1)x(1, 1, 0, 12) - AIC:77.04568522394534\n",
      "ARIMA(0, 1, 1)x(1, 1, 1, 12) - AIC:71.93524982366895\n",
      "ARIMA(1, 0, 0)x(0, 0, 0, 12) - AIC:236.34467284172135\n",
      "ARIMA(1, 0, 0)x(0, 0, 1, 12) - AIC:1140.328323452942\n",
      "ARIMA(1, 0, 0)x(0, 1, 0, 12) - AIC:133.24171841354257\n"
     ]
    },
    {
     "name": "stderr",
     "output_type": "stream",
     "text": [
      "F:\\anaconda\\lib\\site-packages\\statsmodels\\base\\model.py:568: ConvergenceWarning: Maximum Likelihood optimization failed to converge. Check mle_retvals\n",
      "  ConvergenceWarning)\n"
     ]
    },
    {
     "name": "stdout",
     "output_type": "stream",
     "text": [
      "ARIMA(1, 0, 0)x(0, 1, 1, 12) - AIC:74.28020670780315\n",
      "ARIMA(1, 0, 0)x(1, 0, 0, 12) - AIC:133.67888882763583\n"
     ]
    },
    {
     "name": "stderr",
     "output_type": "stream",
     "text": [
      "F:\\anaconda\\lib\\site-packages\\statsmodels\\base\\model.py:568: ConvergenceWarning: Maximum Likelihood optimization failed to converge. Check mle_retvals\n",
      "  ConvergenceWarning)\n"
     ]
    },
    {
     "name": "stdout",
     "output_type": "stream",
     "text": [
      "ARIMA(1, 0, 0)x(1, 0, 1, 12) - AIC:1022.1276916958803\n",
      "ARIMA(1, 0, 0)x(1, 1, 0, 12) - AIC:75.92408687457056\n",
      "ARIMA(1, 0, 0)x(1, 1, 1, 12) - AIC:77.2253361361123\n",
      "ARIMA(1, 0, 1)x(0, 0, 0, 12) - AIC:224.8170814512576\n",
      "ARIMA(1, 0, 1)x(0, 0, 1, 12) - AIC:1417.584483549763\n",
      "ARIMA(1, 0, 1)x(0, 1, 0, 12) - AIC:126.51972129715952\n",
      "ARIMA(1, 0, 1)x(0, 1, 1, 12) - AIC:73.4527699546897\n",
      "ARIMA(1, 0, 1)x(1, 0, 0, 12) - AIC:129.32884549618737\n"
     ]
    },
    {
     "name": "stderr",
     "output_type": "stream",
     "text": [
      "F:\\anaconda\\lib\\site-packages\\statsmodels\\base\\model.py:568: ConvergenceWarning: Maximum Likelihood optimization failed to converge. Check mle_retvals\n",
      "  ConvergenceWarning)\n"
     ]
    },
    {
     "name": "stdout",
     "output_type": "stream",
     "text": [
      "ARIMA(1, 0, 1)x(1, 0, 1, 12) - AIC:1302.865377848823\n",
      "ARIMA(1, 0, 1)x(1, 1, 0, 12) - AIC:77.21349092158027\n",
      "ARIMA(1, 0, 1)x(1, 1, 1, 12) - AIC:76.36317298729418\n",
      "ARIMA(1, 1, 0)x(0, 0, 0, 12) - AIC:225.09143427331455\n",
      "ARIMA(1, 1, 0)x(0, 0, 1, 12) - AIC:1340.0904364342687\n",
      "ARIMA(1, 1, 0)x(0, 1, 0, 12) - AIC:131.54125731955236\n",
      "ARIMA(1, 1, 0)x(0, 1, 1, 12) - AIC:73.50408054949168\n"
     ]
    },
    {
     "name": "stderr",
     "output_type": "stream",
     "text": [
      "F:\\anaconda\\lib\\site-packages\\statsmodels\\base\\model.py:568: ConvergenceWarning: Maximum Likelihood optimization failed to converge. Check mle_retvals\n",
      "  ConvergenceWarning)\n"
     ]
    },
    {
     "name": "stdout",
     "output_type": "stream",
     "text": [
      "ARIMA(1, 1, 0)x(1, 0, 0, 12) - AIC:131.83867397950962\n",
      "ARIMA(1, 1, 0)x(1, 0, 1, 12) - AIC:1310.1180609492412\n"
     ]
    },
    {
     "name": "stderr",
     "output_type": "stream",
     "text": [
      "F:\\anaconda\\lib\\site-packages\\statsmodels\\base\\model.py:568: ConvergenceWarning: Maximum Likelihood optimization failed to converge. Check mle_retvals\n",
      "  ConvergenceWarning)\n"
     ]
    },
    {
     "name": "stdout",
     "output_type": "stream",
     "text": [
      "ARIMA(1, 1, 0)x(1, 1, 0, 12) - AIC:75.56498740932176\n",
      "ARIMA(1, 1, 0)x(1, 1, 1, 12) - AIC:77.56152124157069\n",
      "ARIMA(1, 1, 1)x(0, 0, 0, 12) - AIC:218.01337769393643\n"
     ]
    },
    {
     "name": "stderr",
     "output_type": "stream",
     "text": [
      "F:\\anaconda\\lib\\site-packages\\statsmodels\\base\\model.py:568: ConvergenceWarning: Maximum Likelihood optimization failed to converge. Check mle_retvals\n",
      "  ConvergenceWarning)\n"
     ]
    },
    {
     "name": "stdout",
     "output_type": "stream",
     "text": [
      "ARIMA(1, 1, 1)x(0, 0, 1, 12) - AIC:1503.581245998475\n",
      "ARIMA(1, 1, 1)x(0, 1, 0, 12) - AIC:123.28387429910137\n",
      "ARIMA(1, 1, 1)x(0, 1, 1, 12) - AIC:72.19667742405973\n",
      "ARIMA(1, 1, 1)x(1, 0, 0, 12) - AIC:131.1822503531364\n",
      "ARIMA(1, 1, 1)x(1, 0, 1, 12) - AIC:1474.3308107037994\n",
      "ARIMA(1, 1, 1)x(1, 1, 0, 12) - AIC:76.46031437852207\n",
      "ARIMA(1, 1, 1)x(1, 1, 1, 12) - AIC:75.638182126619\n"
     ]
    },
    {
     "name": "stderr",
     "output_type": "stream",
     "text": [
      "F:\\anaconda\\lib\\site-packages\\statsmodels\\base\\model.py:568: ConvergenceWarning: Maximum Likelihood optimization failed to converge. Check mle_retvals\n",
      "  ConvergenceWarning)\n"
     ]
    }
   ],
   "source": [
    "for p in rangePDQ:\n",
    "    for seasonalp in seasonalPDQ:\n",
    "        try:\n",
    "            model = sm.tsa.statespace.SARIMAX(y, order=p, seasonal_order=seasonalp, enforce_stationarity=False,\n",
    "                                            enforce_invertibility=False)\n",
    "            modelResults = model.fit()\n",
    "            print('ARIMA{}x{} - AIC:{}'.format(p, seasonalp, modelResults.aic))\n",
    "        except:\n",
    "            continue"
   ]
  },
  {
   "cell_type": "code",
   "execution_count": 20,
   "metadata": {},
   "outputs": [
    {
     "name": "stdout",
     "output_type": "stream",
     "text": [
      "==============================================================================\n",
      "                 coef    std err          z      P>|z|      [0.025      0.975]\n",
      "------------------------------------------------------------------------------\n",
      "ma.L1         -0.9363      0.135     -6.917      0.000      -1.202      -0.671\n",
      "ma.S.L12      -0.2678      0.258     -1.037      0.300      -0.774       0.239\n",
      "sigma2         1.2226      0.455      2.684      0.007       0.330       2.115\n",
      "==============================================================================\n"
     ]
    }
   ],
   "source": [
    "model = sm.tsa.statespace.SARIMAX(y, order=(0, 1, 1), seasonal_order=(0, 1, 1, 12), enforce_stationarity=False,\n",
    "                                            enforce_invertibility=False)\n",
    "modelResults = model.fit()\n",
    "print(modelResults.summary().tables[1])"
   ]
  },
  {
   "cell_type": "code",
   "execution_count": 21,
   "metadata": {},
   "outputs": [
    {
     "name": "stdout",
     "output_type": "stream",
     "text": [
      "            lower Quantity  upper Quantity\n",
      "Order_Date                                \n",
      "2017-01-01        5.504412        9.876849\n",
      "2017-02-01        4.934502        9.306031\n",
      "2017-03-01        5.957358       10.323881\n",
      "2017-04-01        5.914631       10.276895\n",
      "2017-05-01        6.416296       10.774923\n",
      "2017-06-01        5.748511       10.104020\n",
      "2017-07-01        7.177152       11.529979\n",
      "2017-08-01        4.952793        9.303309\n",
      "2017-09-01        9.555808       13.904328\n",
      "2017-10-01        7.435376       11.782168\n",
      "2017-11-01       10.837699       15.182994\n",
      "2017-12-01       11.255441       15.599435\n"
     ]
    },
    {
     "data": {
      "image/png": "[encoded data removed]",
      "text/plain": [
       "<Figure size 432x288 with 1 Axes>"
      ]
     },
     "metadata": {
      "needs_background": "light"
     },
     "output_type": "display_data"
    }
   ],
   "source": [
    "predictions = modelResults.get_prediction(start=pd.to_datetime('2017-01-01'), dynamic=False)\n",
    "pred_ci = predictions.conf_int()\n",
    "print(pred_ci)\n",
    "trace = y['2014':].plot(label='Observed')\n",
    "predictions.predicted_mean.plot(ax=trace, label='Future Forecast', alpha=.7)\n",
    "trace.set_xlabel('Date')\n",
    "trace.set_ylabel('Furniture Sales')\n",
    "plt.legend()\n",
    "plt.show()"
   ]
  },
  {
   "cell_type": "code",
   "execution_count": 22,
   "metadata": {},
   "outputs": [
    {
     "name": "stdout",
     "output_type": "stream",
     "text": [
      "Mean Square Error: 1.6325060884168552\n",
      "Root Mean Square Error: 1.277695616497472\n"
     ]
    }
   ],
   "source": [
    "y_predicted = predictions.predicted_mean\n",
    "y_true = y['2017-01-01':]\n",
    "mse = ((y_predicted - y_true)**2).mean()\n",
    "print('Mean Square Error:', mse)\n",
    "print('Root Mean Square Error:', np.sqrt(mse))"
   ]
  },
  {
   "cell_type": "code",
   "execution_count": 23,
   "metadata": {},
   "outputs": [
    {
     "name": "stdout",
     "output_type": "stream",
     "text": [
      "[ 5.73333333  5.46153846  6.15        8.75        7.36        7.65217391\n",
      "  8.71428571  7.05555556 12.58333333 10.08       12.55172414 15.76      ]\n",
      "[ 7.69063077  7.12026655  8.14061952  8.09576327  8.5956094   7.92626551\n",
      "  9.35356572  7.12805097 11.73006802  9.60877205 13.01034604 13.42743782]\n"
     ]
    }
   ],
   "source": [
    "actual, pred = np.array(y_true), np.array(y_predicted)\n",
    "print(actual)\n",
    "print(pred)"
   ]
  },
  {
   "cell_type": "code",
   "execution_count": 24,
   "metadata": {},
   "outputs": [
    {
     "data": {
      "text/plain": [
       "13.583207753615179"
      ]
     },
     "execution_count": 24,
     "metadata": {},
     "output_type": "execute_result"
    }
   ],
   "source": [
    "np.mean(np.abs((actual - pred) / actual)) * 100"
   ]
  },
  {
   "cell_type": "code",
   "execution_count": 25,
   "metadata": {},
   "outputs": [
    {
     "data": {
      "image/png": "[encoded data removed]",
      "text/plain": [
       "<Figure size 1152x288 with 1 Axes>"
      ]
     },
     "metadata": {
      "needs_background": "light"
     },
     "output_type": "display_data"
    }
   ],
   "source": [
    "futurePred = modelResults.get_forecast(steps=36)\n",
    "predCi = futurePred.conf_int()\n",
    "ax = y.plot(label='Observed', figsize=(16, 4))\n",
    "futurePred.predicted_mean.plot(ax=ax, label='Forecast')\n",
    "ax.fill_between(predCi.index,\n",
    "                predCi.iloc[:, 0],\n",
    "                predCi.iloc[:, 1], color='k', alpha=.25)\n",
    "ax.set_xlabel('Date')\n",
    "ax.set_ylabel('Furniture Sales')\n",
    "plt.legend()\n",
    "plt.show()"
   ]
  },
  {
   "cell_type": "code",
   "execution_count": 26,
   "metadata": {},
   "outputs": [],
   "source": [
    "import json"
   ]
  },
  {
   "cell_type": "code",
   "execution_count": 27,
   "metadata": {},
   "outputs": [
    {
     "name": "stdout",
     "output_type": "stream",
     "text": [
      "{'2018-01-01': 6.574035226294077, '2018-02-01': 6.261489952282491, '2018-03-01': 7.073981206550934, '2018-04-01': 9.006979989975829, '2018-05-01': 8.109746959843214, '2018-06-01': 8.168896841532133, '2018-07-01': 9.334092279234413, '2018-08-01': 7.5358204112144005, '2018-09-01': 12.817115237021692, '2018-10-01': 10.400199532730548, '2018-11-01': 13.112198721993376, '2018-12-01': 15.581567263731941, '2019-01-01': 6.9779310040645015, '2019-02-01': 6.665385730052914, '2019-03-01': 7.477876984321357, '2019-04-01': 9.410875767746251, '2019-05-01': 8.513642737613637, '2019-06-01': 8.572792619302556, '2019-07-01': 9.737988057004836, '2019-08-01': 7.939716188984823, '2019-09-01': 13.221011014792115, '2019-10-01': 10.80409531050097, '2019-11-01': 13.516094499763799, '2019-12-01': 15.985463041502364, '2020-01-01': 7.381826781834924, '2020-02-01': 7.069281507823336, '2020-03-01': 7.88177276209178, '2020-04-01': 9.814771545516674, '2020-05-01': 8.91753851538406, '2020-06-01': 8.976688397072978, '2020-07-01': 10.141883834775259, '2020-08-01': 8.343611966755246, '2020-09-01': 13.624906792562538, '2020-10-01': 11.207991088271392, '2020-11-01': 13.919990277534222, '2020-12-01': 16.389358819272786}\n"
     ]
    }
   ],
   "source": [
    "y_forecasted = futurePred.predicted_mean\n",
    "y_forecasted_dic = dict(zip(y_forecasted.index.strftime(\"%Y-%m-%d\"),y_forecasted.values))\n",
    "print(y_forecasted_dic)\n",
    "with open(\"furniture_forecast.json\", \"w\") as outfile: \n",
    "    json.dump(y_forecasted_dic, outfile) "
   ]
  },
  {
   "cell_type": "markdown",
   "metadata": {},
   "source": [
    "# Office Supplies"
   ]
  },
  {
   "cell_type": "code",
   "execution_count": 28,
   "metadata": {},
   "outputs": [
    {
     "data": {
      "text/html": [
       "<div>\n",
       "<style scoped>\n",
       "    .dataframe tbody tr th:only-of-type {\n",
       "        vertical-align: middle;\n",
       "    }\n",
       "\n",
       "    .dataframe tbody tr th {\n",
       "        vertical-align: top;\n",
       "    }\n",
       "\n",
       "    .dataframe thead th {\n",
       "        text-align: right;\n",
       "    }\n",
       "</style>\n",
       "<table border=\"1\" class=\"dataframe\">\n",
       "  <thead>\n",
       "    <tr style=\"text-align: right;\">\n",
       "      <th></th>\n",
       "      <th>Row_ID</th>\n",
       "      <th>Order_Date</th>\n",
       "      <th>Customer_Name</th>\n",
       "      <th>City</th>\n",
       "      <th>Region</th>\n",
       "      <th>Category</th>\n",
       "      <th>Sub_Category</th>\n",
       "      <th>Product_Name</th>\n",
       "      <th>Sales</th>\n",
       "      <th>Quantity</th>\n",
       "      <th>Discount</th>\n",
       "      <th>Profit</th>\n",
       "      <th>Temperature</th>\n",
       "      <th>Is_Holiday</th>\n",
       "      <th>Fuel_Price</th>\n",
       "    </tr>\n",
       "  </thead>\n",
       "  <tbody>\n",
       "    <tr>\n",
       "      <th>2</th>\n",
       "      <td>3</td>\n",
       "      <td>2016-06-12</td>\n",
       "      <td>Darrin Van Huff</td>\n",
       "      <td>Los Angeles</td>\n",
       "      <td>West</td>\n",
       "      <td>Office Supplies</td>\n",
       "      <td>Labels</td>\n",
       "      <td>Self-Adhesive Address Labels for Typewriters b...</td>\n",
       "      <td>14.620</td>\n",
       "      <td>2</td>\n",
       "      <td>0.0</td>\n",
       "      <td>6.8714</td>\n",
       "      <td>39.93</td>\n",
       "      <td>False</td>\n",
       "      <td>2.514</td>\n",
       "    </tr>\n",
       "    <tr>\n",
       "      <th>4</th>\n",
       "      <td>5</td>\n",
       "      <td>2015-10-11</td>\n",
       "      <td>Sean O'Donnell</td>\n",
       "      <td>Fort Lauderdale</td>\n",
       "      <td>South</td>\n",
       "      <td>Office Supplies</td>\n",
       "      <td>Storage</td>\n",
       "      <td>Eldon Fold 'N Roll Cart System</td>\n",
       "      <td>22.368</td>\n",
       "      <td>2</td>\n",
       "      <td>0.2</td>\n",
       "      <td>2.5164</td>\n",
       "      <td>46.50</td>\n",
       "      <td>False</td>\n",
       "      <td>2.625</td>\n",
       "    </tr>\n",
       "    <tr>\n",
       "      <th>6</th>\n",
       "      <td>7</td>\n",
       "      <td>2014-06-09</td>\n",
       "      <td>Brosina Hoffman</td>\n",
       "      <td>Los Angeles</td>\n",
       "      <td>West</td>\n",
       "      <td>Office Supplies</td>\n",
       "      <td>Art</td>\n",
       "      <td>Newell 322</td>\n",
       "      <td>7.280</td>\n",
       "      <td>4</td>\n",
       "      <td>0.0</td>\n",
       "      <td>1.9656</td>\n",
       "      <td>54.58</td>\n",
       "      <td>False</td>\n",
       "      <td>2.720</td>\n",
       "    </tr>\n",
       "    <tr>\n",
       "      <th>8</th>\n",
       "      <td>9</td>\n",
       "      <td>2014-06-09</td>\n",
       "      <td>Brosina Hoffman</td>\n",
       "      <td>Los Angeles</td>\n",
       "      <td>West</td>\n",
       "      <td>Office Supplies</td>\n",
       "      <td>Binders</td>\n",
       "      <td>DXL Angle-View Binders with Locking Rings by S...</td>\n",
       "      <td>18.504</td>\n",
       "      <td>3</td>\n",
       "      <td>0.2</td>\n",
       "      <td>5.7825</td>\n",
       "      <td>62.27</td>\n",
       "      <td>True</td>\n",
       "      <td>2.719</td>\n",
       "    </tr>\n",
       "    <tr>\n",
       "      <th>9</th>\n",
       "      <td>10</td>\n",
       "      <td>2014-06-09</td>\n",
       "      <td>Brosina Hoffman</td>\n",
       "      <td>Los Angeles</td>\n",
       "      <td>West</td>\n",
       "      <td>Office Supplies</td>\n",
       "      <td>Appliances</td>\n",
       "      <td>Belkin F5C206VTEL 6 Outlet Surge</td>\n",
       "      <td>114.900</td>\n",
       "      <td>5</td>\n",
       "      <td>0.0</td>\n",
       "      <td>34.4700</td>\n",
       "      <td>65.86</td>\n",
       "      <td>False</td>\n",
       "      <td>2.770</td>\n",
       "    </tr>\n",
       "  </tbody>\n",
       "</table>\n",
       "</div>"
      ],
      "text/plain": [
       "   Row_ID Order_Date    Customer_Name             City Region  \\\n",
       "2       3 2016-06-12  Darrin Van Huff      Los Angeles   West   \n",
       "4       5 2015-10-11   Sean O'Donnell  Fort Lauderdale  South   \n",
       "6       7 2014-06-09  Brosina Hoffman      Los Angeles   West   \n",
       "8       9 2014-06-09  Brosina Hoffman      Los Angeles   West   \n",
       "9      10 2014-06-09  Brosina Hoffman      Los Angeles   West   \n",
       "\n",
       "          Category Sub_Category  \\\n",
       "2  Office Supplies       Labels   \n",
       "4  Office Supplies      Storage   \n",
       "6  Office Supplies          Art   \n",
       "8  Office Supplies      Binders   \n",
       "9  Office Supplies   Appliances   \n",
       "\n",
       "                                        Product_Name    Sales  Quantity  \\\n",
       "2  Self-Adhesive Address Labels for Typewriters b...   14.620         2   \n",
       "4                     Eldon Fold 'N Roll Cart System   22.368         2   \n",
       "6                                         Newell 322    7.280         4   \n",
       "8  DXL Angle-View Binders with Locking Rings by S...   18.504         3   \n",
       "9                   Belkin F5C206VTEL 6 Outlet Surge  114.900         5   \n",
       "\n",
       "   Discount   Profit  Temperature  Is_Holiday  Fuel_Price  \n",
       "2       0.0   6.8714        39.93       False       2.514  \n",
       "4       0.2   2.5164        46.50       False       2.625  \n",
       "6       0.0   1.9656        54.58       False       2.720  \n",
       "8       0.2   5.7825        62.27        True       2.719  \n",
       "9       0.0  34.4700        65.86       False       2.770  "
      ]
     },
     "execution_count": 28,
     "metadata": {},
     "output_type": "execute_result"
    }
   ],
   "source": [
    "df_offsup = data.loc[data['Category'] == 'Office Supplies']\n",
    "df_offsup.head()"
   ]
  },
  {
   "cell_type": "code",
   "execution_count": 29,
   "metadata": {},
   "outputs": [
    {
     "name": "stderr",
     "output_type": "stream",
     "text": [
      "F:\\anaconda\\lib\\site-packages\\pandas\\core\\frame.py:4170: SettingWithCopyWarning: \n",
      "A value is trying to be set on a copy of a slice from a DataFrame\n",
      "\n",
      "See the caveats in the documentation: https://pandas.pydata.org/pandas-docs/stable/user_guide/indexing.html#returning-a-view-versus-a-copy\n",
      "  errors=errors,\n"
     ]
    }
   ],
   "source": [
    "var_column = ['Row_ID', 'Customer_Name', 'City', 'Region', 'Category',\n",
    "       'Sub_Category', 'Product_Name', 'Sales', 'Discount',\n",
    "       'Profit', 'Temperature', 'Is_Holiday', 'Fuel_Price']\n",
    "df_offsup.drop(var_column, axis=1, inplace=True)"
   ]
  },
  {
   "cell_type": "code",
   "execution_count": 30,
   "metadata": {},
   "outputs": [
    {
     "data": {
      "text/html": [
       "<div>\n",
       "<style scoped>\n",
       "    .dataframe tbody tr th:only-of-type {\n",
       "        vertical-align: middle;\n",
       "    }\n",
       "\n",
       "    .dataframe tbody tr th {\n",
       "        vertical-align: top;\n",
       "    }\n",
       "\n",
       "    .dataframe thead th {\n",
       "        text-align: right;\n",
       "    }\n",
       "</style>\n",
       "<table border=\"1\" class=\"dataframe\">\n",
       "  <thead>\n",
       "    <tr style=\"text-align: right;\">\n",
       "      <th></th>\n",
       "      <th>Order_Date</th>\n",
       "      <th>Quantity</th>\n",
       "    </tr>\n",
       "  </thead>\n",
       "  <tbody>\n",
       "    <tr>\n",
       "      <th>7980</th>\n",
       "      <td>2014-01-03</td>\n",
       "      <td>2</td>\n",
       "    </tr>\n",
       "    <tr>\n",
       "      <th>740</th>\n",
       "      <td>2014-01-04</td>\n",
       "      <td>3</td>\n",
       "    </tr>\n",
       "    <tr>\n",
       "      <th>739</th>\n",
       "      <td>2014-01-04</td>\n",
       "      <td>3</td>\n",
       "    </tr>\n",
       "    <tr>\n",
       "      <th>741</th>\n",
       "      <td>2014-01-04</td>\n",
       "      <td>2</td>\n",
       "    </tr>\n",
       "    <tr>\n",
       "      <th>1759</th>\n",
       "      <td>2014-01-05</td>\n",
       "      <td>3</td>\n",
       "    </tr>\n",
       "    <tr>\n",
       "      <th>...</th>\n",
       "      <td>...</td>\n",
       "      <td>...</td>\n",
       "    </tr>\n",
       "    <tr>\n",
       "      <th>5091</th>\n",
       "      <td>2017-12-30</td>\n",
       "      <td>3</td>\n",
       "    </tr>\n",
       "    <tr>\n",
       "      <th>1297</th>\n",
       "      <td>2017-12-30</td>\n",
       "      <td>2</td>\n",
       "    </tr>\n",
       "    <tr>\n",
       "      <th>908</th>\n",
       "      <td>2017-12-30</td>\n",
       "      <td>3</td>\n",
       "    </tr>\n",
       "    <tr>\n",
       "      <th>1296</th>\n",
       "      <td>2017-12-30</td>\n",
       "      <td>2</td>\n",
       "    </tr>\n",
       "    <tr>\n",
       "      <th>645</th>\n",
       "      <td>2017-12-30</td>\n",
       "      <td>2</td>\n",
       "    </tr>\n",
       "  </tbody>\n",
       "</table>\n",
       "<p>6026 rows × 2 columns</p>\n",
       "</div>"
      ],
      "text/plain": [
       "     Order_Date  Quantity\n",
       "7980 2014-01-03         2\n",
       "740  2014-01-04         3\n",
       "739  2014-01-04         3\n",
       "741  2014-01-04         2\n",
       "1759 2014-01-05         3\n",
       "...         ...       ...\n",
       "5091 2017-12-30         3\n",
       "1297 2017-12-30         2\n",
       "908  2017-12-30         3\n",
       "1296 2017-12-30         2\n",
       "645  2017-12-30         2\n",
       "\n",
       "[6026 rows x 2 columns]"
      ]
     },
     "execution_count": 30,
     "metadata": {},
     "output_type": "execute_result"
    }
   ],
   "source": [
    "df_offsup.head()\n",
    "df_offsup.sort_values('Order_Date')"
   ]
  },
  {
   "cell_type": "code",
   "execution_count": 31,
   "metadata": {},
   "outputs": [
    {
     "data": {
      "text/plain": [
       "Order_Date    0\n",
       "Quantity      0\n",
       "dtype: int64"
      ]
     },
     "execution_count": 31,
     "metadata": {},
     "output_type": "execute_result"
    }
   ],
   "source": [
    "df_offsup.isna().sum()"
   ]
  },
  {
   "cell_type": "code",
   "execution_count": 32,
   "metadata": {},
   "outputs": [],
   "source": [
    "df_offsup = df_offsup.groupby('Order_Date')['Quantity'].sum().reset_index()"
   ]
  },
  {
   "cell_type": "code",
   "execution_count": 33,
   "metadata": {},
   "outputs": [
    {
     "data": {
      "text/plain": [
       "Order_Date\n",
       "2014-01-01     9.941176\n",
       "2014-02-01     6.058824\n",
       "2014-03-01    16.818182\n",
       "2014-04-01    14.375000\n",
       "2014-05-01    12.772727\n",
       "2014-06-01    14.636364\n",
       "2014-07-01    16.650000\n",
       "2014-08-01    17.904762\n",
       "2014-09-01    23.111111\n",
       "2014-10-01    12.296296\n",
       "2014-11-01    26.464286\n",
       "2014-12-01    22.038462\n",
       "2015-01-01     7.857143\n",
       "2015-02-01     9.312500\n",
       "2015-03-01    13.652174\n",
       "2015-04-01    11.920000\n",
       "2015-05-01    14.480000\n",
       "2015-06-01    15.578947\n",
       "2015-07-01    12.739130\n",
       "2015-08-01    17.619048\n",
       "2015-09-01    27.400000\n",
       "2015-10-01    14.791667\n",
       "2015-11-01    28.535714\n",
       "2015-12-01    22.800000\n",
       "2016-01-01    11.562500\n",
       "2016-02-01     9.684211\n",
       "2016-03-01    11.480000\n",
       "2016-04-01    17.739130\n",
       "2016-05-01    17.965517\n",
       "2016-06-01    19.600000\n",
       "2016-07-01    21.500000\n",
       "2016-08-01    17.038462\n",
       "2016-09-01    29.785714\n",
       "2016-10-01    19.375000\n",
       "2016-11-01    31.500000\n",
       "2016-12-01    29.892857\n",
       "2017-01-01    17.954545\n",
       "2017-02-01    11.684211\n",
       "2017-03-01    20.629630\n",
       "2017-04-01    17.333333\n",
       "2017-05-01    20.148148\n",
       "2017-06-01    21.769231\n",
       "2017-07-01    17.653846\n",
       "2017-08-01    23.576923\n",
       "2017-09-01    37.357143\n",
       "2017-10-01    25.076923\n",
       "2017-11-01    39.035714\n",
       "2017-12-01    36.586207\n",
       "Freq: MS, Name: Quantity, dtype: float64"
      ]
     },
     "execution_count": 33,
     "metadata": {},
     "output_type": "execute_result"
    }
   ],
   "source": [
    "df_offsup = df_offsup.set_index('Order_Date')\n",
    "y = df_offsup['Quantity'].resample('MS').mean()\n",
    "y"
   ]
  },
  {
   "cell_type": "code",
   "execution_count": 34,
   "metadata": {},
   "outputs": [
    {
     "data": {
      "text/plain": [
       "<AxesSubplot:xlabel='Order_Date'>"
      ]
     },
     "execution_count": 34,
     "metadata": {},
     "output_type": "execute_result"
    },
    {
     "data": {
      "image/png": "[encoded data removed]",
      "text/plain": [
       "<Figure size 432x288 with 1 Axes>"
      ]
     },
     "metadata": {
      "needs_background": "light"
     },
     "output_type": "display_data"
    }
   ],
   "source": [
    "y.plot()"
   ]
  },
  {
   "cell_type": "code",
   "execution_count": 35,
   "metadata": {},
   "outputs": [
    {
     "data": {
      "image/png": "[encoded data removed]",
      "text/plain": [
       "<Figure size 432x288 with 4 Axes>"
      ]
     },
     "metadata": {
      "needs_background": "light"
     },
     "output_type": "display_data"
    }
   ],
   "source": [
    "decomposition = sm.tsa.seasonal_decompose(y, model='additive')\n",
    "decomposition.plot()\n",
    "plt.show()"
   ]
  },
  {
   "cell_type": "code",
   "execution_count": 36,
   "metadata": {},
   "outputs": [
    {
     "name": "stdout",
     "output_type": "stream",
     "text": [
      "Parameter Combinations:\n",
      "(0, 0, 1) x (0, 0, 1, 12)\n",
      "(0, 1, 0) x (0, 1, 0, 12)\n"
     ]
    }
   ],
   "source": [
    "p = d = q = range(0, 2)\n",
    "rangePDQ = list(itertools.product(p, d, q))\n",
    "seasonalPDQ = [(x[0], x[1], x[2], 12) for x in rangePDQ]\n",
    "\n",
    "print('Parameter Combinations:')\n",
    "print('{} x {}'.format(rangePDQ[1], seasonalPDQ[1]))\n",
    "print('{} x {}'.format(rangePDQ[2], seasonalPDQ[2]))"
   ]
  },
  {
   "cell_type": "code",
   "execution_count": 37,
   "metadata": {},
   "outputs": [
    {
     "name": "stdout",
     "output_type": "stream",
     "text": [
      "ARIMA(0, 0, 0)x(0, 0, 0, 12) - AIC:420.306699838906\n",
      "ARIMA(0, 0, 0)x(0, 0, 1, 12) - AIC:1456.9683625098105\n",
      "ARIMA(0, 0, 0)x(0, 1, 0, 12) - AIC:206.48189470708516\n",
      "ARIMA(0, 0, 0)x(0, 1, 1, 12) - AIC:144.12656129040127\n"
     ]
    },
    {
     "name": "stderr",
     "output_type": "stream",
     "text": [
      "F:\\anaconda\\lib\\site-packages\\statsmodels\\tsa\\statespace\\sarimax.py:867: UserWarning: Too few observations to estimate starting parameters for seasonal ARMA. All parameters except for variances will be set to zeros.\n",
      "  ' zeros.' % warning_description)\n"
     ]
    },
    {
     "name": "stdout",
     "output_type": "stream",
     "text": [
      "ARIMA(0, 0, 0)x(1, 0, 0, 12) - AIC:196.69242590242058\n",
      "ARIMA(0, 0, 0)x(1, 0, 1, 12) - AIC:1007.3781561102365\n"
     ]
    },
    {
     "name": "stderr",
     "output_type": "stream",
     "text": [
      "F:\\anaconda\\lib\\site-packages\\statsmodels\\base\\model.py:568: ConvergenceWarning: Maximum Likelihood optimization failed to converge. Check mle_retvals\n",
      "  ConvergenceWarning)\n"
     ]
    },
    {
     "name": "stdout",
     "output_type": "stream",
     "text": [
      "ARIMA(0, 0, 0)x(1, 1, 0, 12) - AIC:149.59253669208016\n",
      "ARIMA(0, 0, 0)x(1, 1, 1, 12) - AIC:145.81024449006705\n",
      "ARIMA(0, 0, 1)x(0, 0, 0, 12) - AIC:376.96675422084115\n"
     ]
    },
    {
     "name": "stderr",
     "output_type": "stream",
     "text": [
      "F:\\anaconda\\lib\\site-packages\\statsmodels\\base\\model.py:568: ConvergenceWarning: Maximum Likelihood optimization failed to converge. Check mle_retvals\n",
      "  ConvergenceWarning)\n"
     ]
    },
    {
     "name": "stdout",
     "output_type": "stream",
     "text": [
      "ARIMA(0, 0, 1)x(0, 0, 1, 12) - AIC:1650.3621595900386\n",
      "ARIMA(0, 0, 1)x(0, 1, 0, 12) - AIC:195.93749301540174\n",
      "ARIMA(0, 0, 1)x(0, 1, 1, 12) - AIC:135.6934043651074\n",
      "ARIMA(0, 0, 1)x(1, 0, 0, 12) - AIC:198.61718905049727\n"
     ]
    },
    {
     "name": "stderr",
     "output_type": "stream",
     "text": [
      "F:\\anaconda\\lib\\site-packages\\statsmodels\\base\\model.py:568: ConvergenceWarning: Maximum Likelihood optimization failed to converge. Check mle_retvals\n",
      "  ConvergenceWarning)\n"
     ]
    },
    {
     "name": "stdout",
     "output_type": "stream",
     "text": [
      "ARIMA(0, 0, 1)x(1, 0, 1, 12) - AIC:1452.9095784539772\n",
      "ARIMA(0, 0, 1)x(1, 1, 0, 12) - AIC:146.67605071797186\n",
      "ARIMA(0, 0, 1)x(1, 1, 1, 12) - AIC:138.096238092549\n",
      "ARIMA(0, 1, 0)x(0, 0, 0, 12) - AIC:320.4584073464301\n"
     ]
    },
    {
     "name": "stderr",
     "output_type": "stream",
     "text": [
      "F:\\anaconda\\lib\\site-packages\\statsmodels\\base\\model.py:568: ConvergenceWarning: Maximum Likelihood optimization failed to converge. Check mle_retvals\n",
      "  ConvergenceWarning)\n",
      "F:\\anaconda\\lib\\site-packages\\statsmodels\\base\\model.py:568: ConvergenceWarning: Maximum Likelihood optimization failed to converge. Check mle_retvals\n",
      "  ConvergenceWarning)\n"
     ]
    },
    {
     "name": "stdout",
     "output_type": "stream",
     "text": [
      "ARIMA(0, 1, 0)x(0, 0, 1, 12) - AIC:1222.2338723497305\n",
      "ARIMA(0, 1, 0)x(0, 1, 0, 12) - AIC:200.48223338873058\n",
      "ARIMA(0, 1, 0)x(0, 1, 1, 12) - AIC:126.3465594021419\n",
      "ARIMA(0, 1, 0)x(1, 0, 0, 12) - AIC:206.7028096900757\n",
      "ARIMA(0, 1, 0)x(1, 0, 1, 12) - AIC:1488.6474037570438\n",
      "ARIMA(0, 1, 0)x(1, 1, 0, 12) - AIC:132.03033630182594\n",
      "ARIMA(0, 1, 0)x(1, 1, 1, 12) - AIC:125.60300985414399\n",
      "ARIMA(0, 1, 1)x(0, 0, 0, 12) - AIC:302.51984282213886\n"
     ]
    },
    {
     "name": "stderr",
     "output_type": "stream",
     "text": [
      "F:\\anaconda\\lib\\site-packages\\statsmodels\\base\\model.py:568: ConvergenceWarning: Maximum Likelihood optimization failed to converge. Check mle_retvals\n",
      "  ConvergenceWarning)\n"
     ]
    },
    {
     "name": "stdout",
     "output_type": "stream",
     "text": [
      "ARIMA(0, 1, 1)x(0, 0, 1, 12) - AIC:1222.8898121635395\n",
      "ARIMA(0, 1, 1)x(0, 1, 0, 12) - AIC:178.71113827984374\n",
      "ARIMA(0, 1, 1)x(0, 1, 1, 12) - AIC:114.47010558721226\n",
      "ARIMA(0, 1, 1)x(1, 0, 0, 12) - AIC:192.45905100555558\n",
      "ARIMA(0, 1, 1)x(1, 0, 1, 12) - AIC:1193.5217270953606\n",
      "ARIMA(0, 1, 1)x(1, 1, 0, 12) - AIC:125.42221324712277\n",
      "ARIMA(0, 1, 1)x(1, 1, 1, 12) - AIC:114.15460105309573\n",
      "ARIMA(1, 0, 0)x(0, 0, 0, 12) - AIC:328.1116685739828\n"
     ]
    },
    {
     "name": "stderr",
     "output_type": "stream",
     "text": [
      "F:\\anaconda\\lib\\site-packages\\statsmodels\\base\\model.py:568: ConvergenceWarning: Maximum Likelihood optimization failed to converge. Check mle_retvals\n",
      "  ConvergenceWarning)\n"
     ]
    },
    {
     "name": "stdout",
     "output_type": "stream",
     "text": [
      "ARIMA(1, 0, 0)x(0, 0, 1, 12) - AIC:1426.7605883447438\n",
      "ARIMA(1, 0, 0)x(0, 1, 0, 12) - AIC:199.24106977574462\n",
      "ARIMA(1, 0, 0)x(0, 1, 1, 12) - AIC:132.0641014563298\n",
      "ARIMA(1, 0, 0)x(1, 0, 0, 12) - AIC:193.25083983147138\n"
     ]
    },
    {
     "name": "stderr",
     "output_type": "stream",
     "text": [
      "F:\\anaconda\\lib\\site-packages\\statsmodels\\base\\model.py:568: ConvergenceWarning: Maximum Likelihood optimization failed to converge. Check mle_retvals\n",
      "  ConvergenceWarning)\n"
     ]
    },
    {
     "name": "stdout",
     "output_type": "stream",
     "text": [
      "ARIMA(1, 0, 0)x(1, 0, 1, 12) - AIC:1223.4163219955228\n",
      "ARIMA(1, 0, 0)x(1, 1, 0, 12) - AIC:132.95497346005897\n",
      "ARIMA(1, 0, 0)x(1, 1, 1, 12) - AIC:131.85004070967776\n",
      "ARIMA(1, 0, 1)x(0, 0, 0, 12) - AIC:311.4715391791111\n",
      "ARIMA(1, 0, 1)x(0, 0, 1, 12) - AIC:1412.1946664927095\n",
      "ARIMA(1, 0, 1)x(0, 1, 0, 12) - AIC:185.2339421369003\n"
     ]
    },
    {
     "name": "stderr",
     "output_type": "stream",
     "text": [
      "F:\\anaconda\\lib\\site-packages\\statsmodels\\base\\model.py:568: ConvergenceWarning: Maximum Likelihood optimization failed to converge. Check mle_retvals\n",
      "  ConvergenceWarning)\n"
     ]
    },
    {
     "name": "stdout",
     "output_type": "stream",
     "text": [
      "ARIMA(1, 0, 1)x(0, 1, 1, 12) - AIC:120.78909423911165\n",
      "ARIMA(1, 0, 1)x(1, 0, 0, 12) - AIC:192.31736916465374\n"
     ]
    },
    {
     "name": "stderr",
     "output_type": "stream",
     "text": [
      "F:\\anaconda\\lib\\site-packages\\statsmodels\\base\\model.py:568: ConvergenceWarning: Maximum Likelihood optimization failed to converge. Check mle_retvals\n",
      "  ConvergenceWarning)\n",
      "F:\\anaconda\\lib\\site-packages\\statsmodels\\base\\model.py:568: ConvergenceWarning: Maximum Likelihood optimization failed to converge. Check mle_retvals\n",
      "  ConvergenceWarning)\n"
     ]
    },
    {
     "name": "stdout",
     "output_type": "stream",
     "text": [
      "ARIMA(1, 0, 1)x(1, 0, 1, 12) - AIC:1214.7761049109617\n",
      "ARIMA(1, 0, 1)x(1, 1, 0, 12) - AIC:124.04656584574194\n",
      "ARIMA(1, 0, 1)x(1, 1, 1, 12) - AIC:120.2875071105749\n",
      "ARIMA(1, 1, 0)x(0, 0, 0, 12) - AIC:312.69453279812063\n",
      "ARIMA(1, 1, 0)x(0, 0, 1, 12) - AIC:1405.2232416948939\n",
      "ARIMA(1, 1, 0)x(0, 1, 0, 12) - AIC:192.9318195999163\n",
      "ARIMA(1, 1, 0)x(0, 1, 1, 12) - AIC:124.56012826974575\n"
     ]
    },
    {
     "name": "stderr",
     "output_type": "stream",
     "text": [
      "F:\\anaconda\\lib\\site-packages\\statsmodels\\base\\model.py:568: ConvergenceWarning: Maximum Likelihood optimization failed to converge. Check mle_retvals\n",
      "  ConvergenceWarning)\n"
     ]
    },
    {
     "name": "stdout",
     "output_type": "stream",
     "text": [
      "ARIMA(1, 1, 0)x(1, 0, 0, 12) - AIC:193.60766980873026\n",
      "ARIMA(1, 1, 0)x(1, 0, 1, 12) - AIC:1371.1532907077344\n"
     ]
    },
    {
     "name": "stderr",
     "output_type": "stream",
     "text": [
      "F:\\anaconda\\lib\\site-packages\\statsmodels\\base\\model.py:568: ConvergenceWarning: Maximum Likelihood optimization failed to converge. Check mle_retvals\n",
      "  ConvergenceWarning)\n"
     ]
    },
    {
     "name": "stdout",
     "output_type": "stream",
     "text": [
      "ARIMA(1, 1, 0)x(1, 1, 0, 12) - AIC:123.01302261086495\n",
      "ARIMA(1, 1, 0)x(1, 1, 1, 12) - AIC:122.95410945381158\n",
      "ARIMA(1, 1, 1)x(0, 0, 0, 12) - AIC:304.5194587977894\n"
     ]
    },
    {
     "name": "stderr",
     "output_type": "stream",
     "text": [
      "F:\\anaconda\\lib\\site-packages\\statsmodels\\base\\model.py:568: ConvergenceWarning: Maximum Likelihood optimization failed to converge. Check mle_retvals\n",
      "  ConvergenceWarning)\n"
     ]
    },
    {
     "name": "stdout",
     "output_type": "stream",
     "text": [
      "ARIMA(1, 1, 1)x(0, 0, 1, 12) - AIC:1257.102595459342\n",
      "ARIMA(1, 1, 1)x(0, 1, 0, 12) - AIC:180.69697251887476\n",
      "ARIMA(1, 1, 1)x(0, 1, 1, 12) - AIC:116.42778138954058\n",
      "ARIMA(1, 1, 1)x(1, 0, 0, 12) - AIC:188.21335967146098\n",
      "ARIMA(1, 1, 1)x(1, 0, 1, 12) - AIC:1223.7458568291247\n"
     ]
    },
    {
     "name": "stderr",
     "output_type": "stream",
     "text": [
      "F:\\anaconda\\lib\\site-packages\\statsmodels\\base\\model.py:568: ConvergenceWarning: Maximum Likelihood optimization failed to converge. Check mle_retvals\n",
      "  ConvergenceWarning)\n"
     ]
    },
    {
     "name": "stdout",
     "output_type": "stream",
     "text": [
      "ARIMA(1, 1, 1)x(1, 1, 0, 12) - AIC:122.66625575347982\n",
      "ARIMA(1, 1, 1)x(1, 1, 1, 12) - AIC:115.96426957427289\n"
     ]
    }
   ],
   "source": [
    "for p in rangePDQ:\n",
    "    for seasonalp in seasonalPDQ:\n",
    "        try:\n",
    "            model = sm.tsa.statespace.SARIMAX(y, order=p, seasonal_order=seasonalp, enforce_stationarity=False,\n",
    "                                            enforce_invertibility=False)\n",
    "            modelResults = model.fit()\n",
    "            print('ARIMA{}x{} - AIC:{}'.format(p, seasonalp, modelResults.aic))\n",
    "        except:\n",
    "            continue"
   ]
  },
  {
   "cell_type": "code",
   "execution_count": 38,
   "metadata": {},
   "outputs": [
    {
     "name": "stdout",
     "output_type": "stream",
     "text": [
      "==============================================================================\n",
      "                 coef    std err          z      P>|z|      [0.025      0.975]\n",
      "------------------------------------------------------------------------------\n",
      "ma.L1         -0.5854      0.291     -2.011      0.044      -1.156      -0.015\n",
      "ar.S.L12      -0.6733      0.336     -2.001      0.045      -1.333      -0.014\n",
      "ma.S.L12      -0.1905      0.699     -0.273      0.785      -1.560       1.179\n",
      "sigma2         9.0023      7.076      1.272      0.203      -4.866      22.871\n",
      "==============================================================================\n"
     ]
    }
   ],
   "source": [
    "model = sm.tsa.statespace.SARIMAX(y, order=(0, 1, 1), seasonal_order=(1, 1, 1, 12), enforce_stationarity=False,\n",
    "                                            enforce_invertibility=False)\n",
    "modelResults = model.fit()\n",
    "print(modelResults.summary().tables[1])"
   ]
  },
  {
   "cell_type": "code",
   "execution_count": 39,
   "metadata": {},
   "outputs": [
    {
     "name": "stdout",
     "output_type": "stream",
     "text": [
      "            lower Quantity  upper Quantity\n",
      "Order_Date                                \n",
      "2017-01-01        8.850252       20.755930\n",
      "2017-02-01       10.562797       22.377582\n",
      "2017-03-01       13.342735       25.127166\n",
      "2017-04-01       13.249971       25.024090\n",
      "2017-05-01       14.214283       25.984879\n",
      "2017-06-01       15.505155       27.274545\n",
      "2017-07-01       14.100903       25.869880\n",
      "2017-08-01       16.230661       27.999497\n",
      "2017-09-01       26.475312       38.244099\n",
      "2017-10-01       16.475002       28.243773\n",
      "2017-11-01       31.166882       42.935647\n",
      "2017-12-01       27.005996       38.774759\n"
     ]
    },
    {
     "data": {
      "image/png": "[encoded data removed]",
      "text/plain": [
       "<Figure size 432x288 with 1 Axes>"
      ]
     },
     "metadata": {
      "needs_background": "light"
     },
     "output_type": "display_data"
    }
   ],
   "source": [
    "predictions = modelResults.get_prediction(start=pd.to_datetime('2017-01-01'), dynamic=False)\n",
    "pred_ci = predictions.conf_int()\n",
    "print(pred_ci)\n",
    "trace = y['2014':].plot(label='Observed')\n",
    "predictions.predicted_mean.plot(ax=trace, label='Future Forecast', alpha=.7)\n",
    "trace.set_xlabel('Date')\n",
    "trace.set_ylabel('Office Supplies Sales')\n",
    "plt.legend()\n",
    "plt.show()"
   ]
  },
  {
   "cell_type": "code",
   "execution_count": 40,
   "metadata": {},
   "outputs": [
    {
     "name": "stdout",
     "output_type": "stream",
     "text": [
      "Mean Square Error: 7.9759723948562815\n",
      "Root Mean Square Error: 2.8241764100098776\n"
     ]
    }
   ],
   "source": [
    "y_predicted = predictions.predicted_mean\n",
    "y_true = y['2017-01-01':]\n",
    "mse = ((y_predicted - y_true)**2).mean()\n",
    "print('Mean Square Error:', mse)\n",
    "print('Root Mean Square Error:', np.sqrt(mse))"
   ]
  },
  {
   "cell_type": "code",
   "execution_count": 41,
   "metadata": {},
   "outputs": [
    {
     "name": "stdout",
     "output_type": "stream",
     "text": [
      "[17.95454545 11.68421053 20.62962963 17.33333333 20.14814815 21.76923077\n",
      " 17.65384615 23.57692308 37.35714286 25.07692308 39.03571429 36.5862069 ]\n",
      "[14.8030906  16.47018989 19.23495035 19.13703019 20.09958069 21.38984966\n",
      " 19.98539133 22.11507891 32.35970569 22.35938758 37.0512648  32.89037782]\n",
      "MAPE 11.372562847730348\n"
     ]
    }
   ],
   "source": [
    "actual, pred = np.array(y_true), np.array(y_predicted)\n",
    "print(actual)\n",
    "print(pred)\n",
    "print(\"MAPE\",np.mean(np.abs((actual - pred) / actual)) * 100)"
   ]
  },
  {
   "cell_type": "code",
   "execution_count": 42,
   "metadata": {},
   "outputs": [
    {
     "data": {
      "image/png": "[encoded data removed]",
      "text/plain": [
       "<Figure size 1152x288 with 1 Axes>"
      ]
     },
     "metadata": {
      "needs_background": "light"
     },
     "output_type": "display_data"
    }
   ],
   "source": [
    "futurePred = modelResults.get_forecast(steps=36)\n",
    "predCi = futurePred.conf_int()\n",
    "ax = y.plot(label='Observed', figsize=(16, 4))\n",
    "futurePred.predicted_mean.plot(ax=ax, label='Forecast')\n",
    "ax.fill_between(predCi.index,\n",
    "                predCi.iloc[:, 0],\n",
    "                predCi.iloc[:, 1], color='k', alpha=.25)\n",
    "ax.set_xlabel('Date')\n",
    "ax.set_ylabel('Office Supplies Sales')\n",
    "plt.legend()\n",
    "plt.show()"
   ]
  },
  {
   "cell_type": "code",
   "execution_count": 43,
   "metadata": {},
   "outputs": [
    {
     "data": {
      "text/plain": [
       "2018-01-01    22.687304\n",
       "2018-02-01    20.627685\n",
       "2018-03-01    23.965194\n",
       "2018-04-01    27.600319\n",
       "2018-05-01    28.462478\n",
       "2018-06-01    30.025799\n",
       "2018-07-01    30.446234\n",
       "2018-08-01    28.839919\n",
       "2018-09-01    41.136570\n",
       "2018-10-01    30.154572\n",
       "2018-11-01    42.803850\n",
       "2018-12-01    40.439250\n",
       "2019-01-01    28.272021\n",
       "2019-02-01    23.377511\n",
       "2019-03-01    30.490581\n",
       "2019-04-01    29.459082\n",
       "2019-05-01    31.635879\n",
       "2019-06-01    33.238089\n",
       "2019-07-01    30.604754\n",
       "2019-08-01    34.067650\n",
       "2019-09-01    47.363123\n",
       "2019-10-01    35.507089\n",
       "2019-11-01    49.038005\n",
       "2019-12-01    46.616241\n",
       "2020-01-01    33.283151\n",
       "2020-02-01    30.297249\n",
       "2020-03-01    34.868400\n",
       "2020-04-01    36.978735\n",
       "2020-05-01    38.270444\n",
       "2020-06-01    39.846471\n",
       "2020-07-01    39.269106\n",
       "2020-08-01    39.319124\n",
       "2020-09-01    51.942133\n",
       "2020-10-01    40.674550\n",
       "2020-11-01    53.611897\n",
       "2020-12-01    51.228620\n",
       "Freq: MS, Name: predicted_mean, dtype: float64"
      ]
     },
     "execution_count": 43,
     "metadata": {},
     "output_type": "execute_result"
    }
   ],
   "source": [
    "y_forecasted = futurePred.predicted_mean\n",
    "y_forecasted.head(36)"
   ]
  },
  {
   "cell_type": "code",
   "execution_count": 44,
   "metadata": {},
   "outputs": [
    {
     "name": "stdout",
     "output_type": "stream",
     "text": [
      "{'2018-01-01': 22.68730353350482, '2018-02-01': 20.627684534904894, '2018-03-01': 23.965194275158392, '2018-04-01': 27.600319111819662, '2018-05-01': 28.462478295841848, '2018-06-01': 30.025799101294073, '2018-07-01': 30.44623360493307, '2018-08-01': 28.839919033522058, '2018-09-01': 41.13656958652662, '2018-10-01': 30.154571804867352, '2018-11-01': 42.803849616426156, '2018-12-01': 40.439250325732736, '2019-01-01': 28.27202082380085, '2019-02-01': 23.377510531402834, '2019-03-01': 30.490580935314426, '2019-04-01': 29.459082387292188, '2019-05-01': 31.635879400137608, '2019-06-01': 33.23808871552049, '2019-07-01': 30.6047541343631, '2019-08-01': 34.067650298618645, '2019-09-01': 47.36312327428638, '2019-10-01': 35.5070892710813, '2019-11-01': 49.03800531019266, '2019-12-01': 46.616241101906645, '2020-01-01': 33.2831511537669, '2020-02-01': 30.29724946426718, '2020-03-01': 34.86839962623264, '2020-04-01': 36.978734967213015, '2020-05-01': 38.27044369632889, '2020-06-01': 39.84647107494053, '2020-07-01': 39.26910596226266, '2020-08-01': 39.31912374167008, '2020-09-01': 51.94213316544319, '2020-10-01': 40.67454961017471, '2020-11-01': 53.61189710243136, '2020-12-01': 51.22861953867378}\n"
     ]
    }
   ],
   "source": [
    "y_forecasted_dic = dict(zip(y_forecasted.index.strftime(\"%Y-%m-%d\"),y_forecasted.values))\n",
    "print(y_forecasted_dic)\n",
    "with open(\"office_forecast.json\", \"w\") as outfile: \n",
    "    json.dump(y_forecasted_dic, outfile)"
   ]
  },
  {
   "cell_type": "code",
   "execution_count": null,
   "metadata": {},
   "outputs": [],
   "source": []
  },
  {
   "cell_type": "markdown",
   "metadata": {},
   "source": [
    "# Technology"
   ]
  },
  {
   "cell_type": "code",
   "execution_count": 45,
   "metadata": {},
   "outputs": [
    {
     "data": {
      "text/html": [
       "<div>\n",
       "<style scoped>\n",
       "    .dataframe tbody tr th:only-of-type {\n",
       "        vertical-align: middle;\n",
       "    }\n",
       "\n",
       "    .dataframe tbody tr th {\n",
       "        vertical-align: top;\n",
       "    }\n",
       "\n",
       "    .dataframe thead th {\n",
       "        text-align: right;\n",
       "    }\n",
       "</style>\n",
       "<table border=\"1\" class=\"dataframe\">\n",
       "  <thead>\n",
       "    <tr style=\"text-align: right;\">\n",
       "      <th></th>\n",
       "      <th>Row_ID</th>\n",
       "      <th>Order_Date</th>\n",
       "      <th>Customer_Name</th>\n",
       "      <th>City</th>\n",
       "      <th>Region</th>\n",
       "      <th>Category</th>\n",
       "      <th>Sub_Category</th>\n",
       "      <th>Product_Name</th>\n",
       "      <th>Sales</th>\n",
       "      <th>Quantity</th>\n",
       "      <th>Discount</th>\n",
       "      <th>Profit</th>\n",
       "      <th>Temperature</th>\n",
       "      <th>Is_Holiday</th>\n",
       "      <th>Fuel_Price</th>\n",
       "    </tr>\n",
       "  </thead>\n",
       "  <tbody>\n",
       "    <tr>\n",
       "      <th>7</th>\n",
       "      <td>8</td>\n",
       "      <td>2014-06-09</td>\n",
       "      <td>Brosina Hoffman</td>\n",
       "      <td>Los Angeles</td>\n",
       "      <td>West</td>\n",
       "      <td>Technology</td>\n",
       "      <td>Phones</td>\n",
       "      <td>Mitel 5320 IP Phone VoIP phone</td>\n",
       "      <td>907.152</td>\n",
       "      <td>6</td>\n",
       "      <td>0.2</td>\n",
       "      <td>90.7152</td>\n",
       "      <td>51.45</td>\n",
       "      <td>False</td>\n",
       "      <td>2.732</td>\n",
       "    </tr>\n",
       "    <tr>\n",
       "      <th>11</th>\n",
       "      <td>12</td>\n",
       "      <td>2014-06-09</td>\n",
       "      <td>Brosina Hoffman</td>\n",
       "      <td>Los Angeles</td>\n",
       "      <td>West</td>\n",
       "      <td>Technology</td>\n",
       "      <td>Phones</td>\n",
       "      <td>Konftel 250 Conference phone - Charcoal black</td>\n",
       "      <td>911.424</td>\n",
       "      <td>4</td>\n",
       "      <td>0.2</td>\n",
       "      <td>68.3568</td>\n",
       "      <td>64.84</td>\n",
       "      <td>False</td>\n",
       "      <td>2.795</td>\n",
       "    </tr>\n",
       "    <tr>\n",
       "      <th>19</th>\n",
       "      <td>20</td>\n",
       "      <td>2014-08-27</td>\n",
       "      <td>Zuschuss Donatelli</td>\n",
       "      <td>San Francisco</td>\n",
       "      <td>West</td>\n",
       "      <td>Technology</td>\n",
       "      <td>Phones</td>\n",
       "      <td>Cisco SPA 501G IP Phone</td>\n",
       "      <td>213.480</td>\n",
       "      <td>3</td>\n",
       "      <td>0.2</td>\n",
       "      <td>16.0110</td>\n",
       "      <td>84.11</td>\n",
       "      <td>False</td>\n",
       "      <td>2.637</td>\n",
       "    </tr>\n",
       "    <tr>\n",
       "      <th>26</th>\n",
       "      <td>27</td>\n",
       "      <td>2016-01-16</td>\n",
       "      <td>Eric Hoffmann</td>\n",
       "      <td>Los Angeles</td>\n",
       "      <td>West</td>\n",
       "      <td>Technology</td>\n",
       "      <td>Accessories</td>\n",
       "      <td>Imation 8GB Mini TravelDrive USB 2.0 Flash Drive</td>\n",
       "      <td>90.570</td>\n",
       "      <td>3</td>\n",
       "      <td>0.0</td>\n",
       "      <td>11.7741</td>\n",
       "      <td>87.16</td>\n",
       "      <td>False</td>\n",
       "      <td>2.627</td>\n",
       "    </tr>\n",
       "    <tr>\n",
       "      <th>35</th>\n",
       "      <td>36</td>\n",
       "      <td>2016-12-08</td>\n",
       "      <td>Gene Hale</td>\n",
       "      <td>Richardson</td>\n",
       "      <td>Central</td>\n",
       "      <td>Technology</td>\n",
       "      <td>Phones</td>\n",
       "      <td>GE 30524EE4</td>\n",
       "      <td>1097.544</td>\n",
       "      <td>7</td>\n",
       "      <td>0.2</td>\n",
       "      <td>123.4737</td>\n",
       "      <td>63.93</td>\n",
       "      <td>False</td>\n",
       "      <td>2.633</td>\n",
       "    </tr>\n",
       "  </tbody>\n",
       "</table>\n",
       "</div>"
      ],
      "text/plain": [
       "    Row_ID Order_Date       Customer_Name           City   Region    Category  \\\n",
       "7        8 2014-06-09     Brosina Hoffman    Los Angeles     West  Technology   \n",
       "11      12 2014-06-09     Brosina Hoffman    Los Angeles     West  Technology   \n",
       "19      20 2014-08-27  Zuschuss Donatelli  San Francisco     West  Technology   \n",
       "26      27 2016-01-16       Eric Hoffmann    Los Angeles     West  Technology   \n",
       "35      36 2016-12-08           Gene Hale     Richardson  Central  Technology   \n",
       "\n",
       "   Sub_Category                                      Product_Name     Sales  \\\n",
       "7        Phones                    Mitel 5320 IP Phone VoIP phone   907.152   \n",
       "11       Phones     Konftel 250 Conference phone - Charcoal black   911.424   \n",
       "19       Phones                           Cisco SPA 501G IP Phone   213.480   \n",
       "26  Accessories  Imation 8GB Mini TravelDrive USB 2.0 Flash Drive    90.570   \n",
       "35       Phones                                       GE 30524EE4  1097.544   \n",
       "\n",
       "    Quantity  Discount    Profit  Temperature  Is_Holiday  Fuel_Price  \n",
       "7          6       0.2   90.7152        51.45       False       2.732  \n",
       "11         4       0.2   68.3568        64.84       False       2.795  \n",
       "19         3       0.2   16.0110        84.11       False       2.637  \n",
       "26         3       0.0   11.7741        87.16       False       2.627  \n",
       "35         7       0.2  123.4737        63.93       False       2.633  "
      ]
     },
     "execution_count": 45,
     "metadata": {},
     "output_type": "execute_result"
    }
   ],
   "source": [
    "df_tech = data.loc[data['Category'] == 'Technology']\n",
    "df_tech.head()"
   ]
  },
  {
   "cell_type": "code",
   "execution_count": 46,
   "metadata": {},
   "outputs": [
    {
     "name": "stderr",
     "output_type": "stream",
     "text": [
      "F:\\anaconda\\lib\\site-packages\\pandas\\core\\frame.py:4170: SettingWithCopyWarning: \n",
      "A value is trying to be set on a copy of a slice from a DataFrame\n",
      "\n",
      "See the caveats in the documentation: https://pandas.pydata.org/pandas-docs/stable/user_guide/indexing.html#returning-a-view-versus-a-copy\n",
      "  errors=errors,\n"
     ]
    }
   ],
   "source": [
    "var_column = ['Row_ID', 'Customer_Name', 'City', 'Region', 'Category',\n",
    "       'Sub_Category', 'Product_Name', 'Sales', 'Discount',\n",
    "       'Profit', 'Temperature', 'Is_Holiday', 'Fuel_Price']\n",
    "df_tech.drop(var_column, axis=1, inplace=True)"
   ]
  },
  {
   "cell_type": "code",
   "execution_count": 47,
   "metadata": {},
   "outputs": [
    {
     "data": {
      "text/html": [
       "<div>\n",
       "<style scoped>\n",
       "    .dataframe tbody tr th:only-of-type {\n",
       "        vertical-align: middle;\n",
       "    }\n",
       "\n",
       "    .dataframe tbody tr th {\n",
       "        vertical-align: top;\n",
       "    }\n",
       "\n",
       "    .dataframe thead th {\n",
       "        text-align: right;\n",
       "    }\n",
       "</style>\n",
       "<table border=\"1\" class=\"dataframe\">\n",
       "  <thead>\n",
       "    <tr style=\"text-align: right;\">\n",
       "      <th></th>\n",
       "      <th>Order_Date</th>\n",
       "      <th>Quantity</th>\n",
       "    </tr>\n",
       "  </thead>\n",
       "  <tbody>\n",
       "    <tr>\n",
       "      <th>7478</th>\n",
       "      <td>2014-01-06</td>\n",
       "      <td>4</td>\n",
       "    </tr>\n",
       "    <tr>\n",
       "      <th>7477</th>\n",
       "      <td>2014-01-06</td>\n",
       "      <td>2</td>\n",
       "    </tr>\n",
       "    <tr>\n",
       "      <th>593</th>\n",
       "      <td>2014-01-09</td>\n",
       "      <td>3</td>\n",
       "    </tr>\n",
       "    <tr>\n",
       "      <th>765</th>\n",
       "      <td>2014-01-13</td>\n",
       "      <td>6</td>\n",
       "    </tr>\n",
       "    <tr>\n",
       "      <th>1913</th>\n",
       "      <td>2014-01-15</td>\n",
       "      <td>5</td>\n",
       "    </tr>\n",
       "    <tr>\n",
       "      <th>...</th>\n",
       "      <td>...</td>\n",
       "      <td>...</td>\n",
       "    </tr>\n",
       "    <tr>\n",
       "      <th>4924</th>\n",
       "      <td>2017-12-25</td>\n",
       "      <td>2</td>\n",
       "    </tr>\n",
       "    <tr>\n",
       "      <th>2569</th>\n",
       "      <td>2017-12-27</td>\n",
       "      <td>2</td>\n",
       "    </tr>\n",
       "    <tr>\n",
       "      <th>573</th>\n",
       "      <td>2017-12-28</td>\n",
       "      <td>3</td>\n",
       "    </tr>\n",
       "    <tr>\n",
       "      <th>1878</th>\n",
       "      <td>2017-12-29</td>\n",
       "      <td>3</td>\n",
       "    </tr>\n",
       "    <tr>\n",
       "      <th>907</th>\n",
       "      <td>2017-12-30</td>\n",
       "      <td>7</td>\n",
       "    </tr>\n",
       "  </tbody>\n",
       "</table>\n",
       "<p>1847 rows × 2 columns</p>\n",
       "</div>"
      ],
      "text/plain": [
       "     Order_Date  Quantity\n",
       "7478 2014-01-06         4\n",
       "7477 2014-01-06         2\n",
       "593  2014-01-09         3\n",
       "765  2014-01-13         6\n",
       "1913 2014-01-15         5\n",
       "...         ...       ...\n",
       "4924 2017-12-25         2\n",
       "2569 2017-12-27         2\n",
       "573  2017-12-28         3\n",
       "1878 2017-12-29         3\n",
       "907  2017-12-30         7\n",
       "\n",
       "[1847 rows x 2 columns]"
      ]
     },
     "execution_count": 47,
     "metadata": {},
     "output_type": "execute_result"
    }
   ],
   "source": [
    "df_tech.head()\n",
    "df_tech.sort_values('Order_Date')"
   ]
  },
  {
   "cell_type": "code",
   "execution_count": 48,
   "metadata": {},
   "outputs": [
    {
     "name": "stdout",
     "output_type": "stream",
     "text": [
      "Order_Date\n",
      "2014-01-01     6.428571\n",
      "2014-02-01     4.714286\n",
      "2014-03-01     5.250000\n",
      "2014-04-01     7.333333\n",
      "2014-05-01     5.176471\n",
      "2014-06-01     7.000000\n",
      "2014-07-01     6.866667\n",
      "2014-08-01     9.692308\n",
      "2014-09-01    11.200000\n",
      "2014-10-01     5.550000\n",
      "2014-11-01    10.000000\n",
      "2014-12-01    10.777778\n",
      "2015-01-01     7.600000\n",
      "2015-02-01     5.625000\n",
      "2015-03-01     5.000000\n",
      "2015-04-01     8.625000\n",
      "2015-05-01     6.214286\n",
      "2015-06-01     5.200000\n",
      "2015-07-01     6.800000\n",
      "2015-08-01     8.285714\n",
      "2015-09-01     9.800000\n",
      "2015-10-01     7.555556\n",
      "2015-11-01     8.739130\n",
      "2015-12-01    11.909091\n",
      "2016-01-01     4.800000\n",
      "2016-02-01     5.300000\n",
      "2016-03-01     6.842105\n",
      "2016-04-01     4.764706\n",
      "2016-05-01     8.944444\n",
      "2016-06-01     7.750000\n",
      "2016-07-01     7.875000\n",
      "2016-08-01     6.750000\n",
      "2016-09-01     9.900000\n",
      "2016-10-01     7.187500\n",
      "2016-11-01    10.760000\n",
      "2016-12-01    10.173913\n",
      "2017-01-01     8.285714\n",
      "2017-02-01     5.000000\n",
      "2017-03-01     8.541667\n",
      "2017-04-01     6.000000\n",
      "2017-05-01     7.950000\n",
      "2017-06-01     9.450000\n",
      "2017-07-01     9.000000\n",
      "2017-08-01     8.000000\n",
      "2017-09-01    12.480000\n",
      "2017-10-01    10.409091\n",
      "2017-11-01    15.320000\n",
      "2017-12-01    11.652174\n",
      "Freq: MS, Name: Quantity, dtype: float64\n"
     ]
    },
    {
     "data": {
      "text/plain": [
       "<AxesSubplot:xlabel='Order_Date'>"
      ]
     },
     "execution_count": 48,
     "metadata": {},
     "output_type": "execute_result"
    },
    {
     "data": {
      "image/png": "[encoded data removed]",
      "text/plain": [
       "<Figure size 432x288 with 1 Axes>"
      ]
     },
     "metadata": {
      "needs_background": "light"
     },
     "output_type": "display_data"
    }
   ],
   "source": [
    "df_tech.isna().sum()\n",
    "df_tech = df_tech.groupby('Order_Date')['Quantity'].sum().reset_index()\n",
    "df_tech = df_tech.set_index('Order_Date')\n",
    "y = df_tech['Quantity'].resample('MS').mean()\n",
    "print(y)\n",
    "y.plot()"
   ]
  },
  {
   "cell_type": "code",
   "execution_count": 49,
   "metadata": {},
   "outputs": [
    {
     "data": {
      "image/png": "[encoded data removed]",
      "text/plain": [
       "<Figure size 432x288 with 4 Axes>"
      ]
     },
     "metadata": {
      "needs_background": "light"
     },
     "output_type": "display_data"
    }
   ],
   "source": [
    "decomposition = sm.tsa.seasonal_decompose(y, model='additive')\n",
    "decomposition.plot()\n",
    "plt.show()"
   ]
  },
  {
   "cell_type": "code",
   "execution_count": 50,
   "metadata": {},
   "outputs": [
    {
     "name": "stdout",
     "output_type": "stream",
     "text": [
      "Parameter Combinations:\n",
      "(0, 0, 1) x (0, 0, 1, 12)\n",
      "(0, 1, 0) x (0, 1, 0, 12)\n"
     ]
    }
   ],
   "source": [
    "p = d = q = range(0, 2)\n",
    "rangePDQ = list(itertools.product(p, d, q))\n",
    "seasonalPDQ = [(x[0], x[1], x[2], 12) for x in rangePDQ]\n",
    "\n",
    "print('Parameter Combinations:')\n",
    "print('{} x {}'.format(rangePDQ[1], seasonalPDQ[1]))\n",
    "print('{} x {}'.format(rangePDQ[2], seasonalPDQ[2]))"
   ]
  },
  {
   "cell_type": "code",
   "execution_count": 51,
   "metadata": {},
   "outputs": [
    {
     "name": "stdout",
     "output_type": "stream",
     "text": [
      "ARIMA(0, 0, 0)x(0, 0, 0, 12) - AIC:335.2798744002405\n",
      "ARIMA(0, 0, 0)x(0, 0, 1, 12) - AIC:1219.4500418708174\n",
      "ARIMA(0, 0, 0)x(0, 1, 0, 12) - AIC:147.796979768055\n",
      "ARIMA(0, 0, 0)x(0, 1, 1, 12) - AIC:103.6347876750137\n",
      "ARIMA(0, 0, 0)x(1, 0, 0, 12) - AIC:151.07647815950713\n"
     ]
    },
    {
     "name": "stderr",
     "output_type": "stream",
     "text": [
      "F:\\anaconda\\lib\\site-packages\\statsmodels\\base\\model.py:568: ConvergenceWarning: Maximum Likelihood optimization failed to converge. Check mle_retvals\n",
      "  ConvergenceWarning)\n",
      "F:\\anaconda\\lib\\site-packages\\statsmodels\\tsa\\statespace\\sarimax.py:867: UserWarning: Too few observations to estimate starting parameters for seasonal ARMA. All parameters except for variances will be set to zeros.\n",
      "  ' zeros.' % warning_description)\n",
      "F:\\anaconda\\lib\\site-packages\\statsmodels\\base\\model.py:568: ConvergenceWarning: Maximum Likelihood optimization failed to converge. Check mle_retvals\n",
      "  ConvergenceWarning)\n"
     ]
    },
    {
     "name": "stdout",
     "output_type": "stream",
     "text": [
      "ARIMA(0, 0, 0)x(1, 0, 1, 12) - AIC:1315.0111765675927\n",
      "ARIMA(0, 0, 0)x(1, 1, 0, 12) - AIC:108.49586168634795\n",
      "ARIMA(0, 0, 0)x(1, 1, 1, 12) - AIC:105.5236555824467\n",
      "ARIMA(0, 0, 1)x(0, 0, 0, 12) - AIC:291.706657043506\n",
      "ARIMA(0, 0, 1)x(0, 0, 1, 12) - AIC:1250.72741380654\n",
      "ARIMA(0, 0, 1)x(0, 1, 0, 12) - AIC:146.36590850894058\n",
      "ARIMA(0, 0, 1)x(0, 1, 1, 12) - AIC:101.83833411903495\n",
      "ARIMA(0, 0, 1)x(1, 0, 0, 12) - AIC:152.9640506864256\n",
      "ARIMA(0, 0, 1)x(1, 0, 1, 12) - AIC:1134.7483720933537\n",
      "ARIMA(0, 0, 1)x(1, 1, 0, 12) - AIC:110.03740548608386\n",
      "ARIMA(0, 0, 1)x(1, 1, 1, 12) - AIC:103.58809630105984\n",
      "ARIMA(0, 1, 0)x(0, 0, 0, 12) - AIC:225.05739986017156\n",
      "ARIMA(0, 1, 0)x(0, 0, 1, 12) - AIC:1051.9754456122203\n",
      "ARIMA(0, 1, 0)x(0, 1, 0, 12) - AIC:166.38150586068963\n"
     ]
    },
    {
     "name": "stderr",
     "output_type": "stream",
     "text": [
      "F:\\anaconda\\lib\\site-packages\\statsmodels\\base\\model.py:568: ConvergenceWarning: Maximum Likelihood optimization failed to converge. Check mle_retvals\n",
      "  ConvergenceWarning)\n"
     ]
    },
    {
     "name": "stdout",
     "output_type": "stream",
     "text": [
      "ARIMA(0, 1, 0)x(0, 1, 1, 12) - AIC:110.90180290713812\n",
      "ARIMA(0, 1, 0)x(1, 0, 0, 12) - AIC:163.14992900712988\n",
      "ARIMA(0, 1, 0)x(1, 0, 1, 12) - AIC:1475.1683636330708\n",
      "ARIMA(0, 1, 0)x(1, 1, 0, 12) - AIC:116.01443115919932\n",
      "ARIMA(0, 1, 0)x(1, 1, 1, 12) - AIC:111.52807168633456\n",
      "ARIMA(0, 1, 1)x(0, 0, 0, 12) - AIC:207.02046688462875\n"
     ]
    },
    {
     "name": "stderr",
     "output_type": "stream",
     "text": [
      "F:\\anaconda\\lib\\site-packages\\statsmodels\\base\\model.py:568: ConvergenceWarning: Maximum Likelihood optimization failed to converge. Check mle_retvals\n",
      "  ConvergenceWarning)\n"
     ]
    },
    {
     "name": "stdout",
     "output_type": "stream",
     "text": [
      "ARIMA(0, 1, 1)x(0, 0, 1, 12) - AIC:1611.458811668559\n",
      "ARIMA(0, 1, 1)x(0, 1, 0, 12) - AIC:139.7630715584566\n",
      "ARIMA(0, 1, 1)x(0, 1, 1, 12) - AIC:93.31643274152141\n",
      "ARIMA(0, 1, 1)x(1, 0, 0, 12) - AIC:143.98711157193443\n"
     ]
    },
    {
     "name": "stderr",
     "output_type": "stream",
     "text": [
      "F:\\anaconda\\lib\\site-packages\\statsmodels\\base\\model.py:568: ConvergenceWarning: Maximum Likelihood optimization failed to converge. Check mle_retvals\n",
      "  ConvergenceWarning)\n"
     ]
    },
    {
     "name": "stdout",
     "output_type": "stream",
     "text": [
      "ARIMA(0, 1, 1)x(1, 0, 1, 12) - AIC:1686.8061543650258\n",
      "ARIMA(0, 1, 1)x(1, 1, 0, 12) - AIC:103.85339495865084\n",
      "ARIMA(0, 1, 1)x(1, 1, 1, 12) - AIC:95.16266537597492\n",
      "ARIMA(1, 0, 0)x(0, 0, 0, 12) - AIC:230.61949214607156\n"
     ]
    },
    {
     "name": "stderr",
     "output_type": "stream",
     "text": [
      "F:\\anaconda\\lib\\site-packages\\statsmodels\\base\\model.py:568: ConvergenceWarning: Maximum Likelihood optimization failed to converge. Check mle_retvals\n",
      "  ConvergenceWarning)\n"
     ]
    },
    {
     "name": "stdout",
     "output_type": "stream",
     "text": [
      "ARIMA(1, 0, 0)x(0, 0, 1, 12) - AIC:1066.1051136884416\n",
      "ARIMA(1, 0, 0)x(0, 1, 0, 12) - AIC:149.71474043985873\n",
      "ARIMA(1, 0, 0)x(0, 1, 1, 12) - AIC:104.89666957984026\n",
      "ARIMA(1, 0, 0)x(1, 0, 0, 12) - AIC:149.65400705271287\n"
     ]
    },
    {
     "name": "stderr",
     "output_type": "stream",
     "text": [
      "F:\\anaconda\\lib\\site-packages\\statsmodels\\base\\model.py:568: ConvergenceWarning: Maximum Likelihood optimization failed to converge. Check mle_retvals\n",
      "  ConvergenceWarning)\n"
     ]
    },
    {
     "name": "stdout",
     "output_type": "stream",
     "text": [
      "ARIMA(1, 0, 0)x(1, 0, 1, 12) - AIC:946.6067280656076\n",
      "ARIMA(1, 0, 0)x(1, 1, 0, 12) - AIC:105.10446570250652\n",
      "ARIMA(1, 0, 0)x(1, 1, 1, 12) - AIC:106.6600238144241\n",
      "ARIMA(1, 0, 1)x(0, 0, 0, 12) - AIC:211.76263127893026\n"
     ]
    },
    {
     "name": "stderr",
     "output_type": "stream",
     "text": [
      "F:\\anaconda\\lib\\site-packages\\statsmodels\\base\\model.py:568: ConvergenceWarning: Maximum Likelihood optimization failed to converge. Check mle_retvals\n",
      "  ConvergenceWarning)\n"
     ]
    },
    {
     "name": "stdout",
     "output_type": "stream",
     "text": [
      "ARIMA(1, 0, 1)x(0, 0, 1, 12) - AIC:1142.914964599055\n",
      "ARIMA(1, 0, 1)x(0, 1, 0, 12) - AIC:144.9551896298797\n",
      "ARIMA(1, 0, 1)x(0, 1, 1, 12) - AIC:98.58556012519576\n",
      "ARIMA(1, 0, 1)x(1, 0, 0, 12) - AIC:142.08605917876406\n"
     ]
    },
    {
     "name": "stderr",
     "output_type": "stream",
     "text": [
      "F:\\anaconda\\lib\\site-packages\\statsmodels\\base\\model.py:568: ConvergenceWarning: Maximum Likelihood optimization failed to converge. Check mle_retvals\n",
      "  ConvergenceWarning)\n"
     ]
    },
    {
     "name": "stdout",
     "output_type": "stream",
     "text": [
      "ARIMA(1, 0, 1)x(1, 0, 1, 12) - AIC:1026.8205370219234\n",
      "ARIMA(1, 0, 1)x(1, 1, 0, 12) - AIC:105.05885944054498\n",
      "ARIMA(1, 0, 1)x(1, 1, 1, 12) - AIC:101.16582351511872\n",
      "ARIMA(1, 1, 0)x(0, 0, 0, 12) - AIC:215.1713401021567\n",
      "ARIMA(1, 1, 0)x(0, 0, 1, 12) - AIC:1321.8681167175102\n",
      "ARIMA(1, 1, 0)x(0, 1, 0, 12) - AIC:149.6359263256687\n",
      "ARIMA(1, 1, 0)x(0, 1, 1, 12) - AIC:103.35157679385023\n"
     ]
    },
    {
     "name": "stderr",
     "output_type": "stream",
     "text": [
      "F:\\anaconda\\lib\\site-packages\\statsmodels\\base\\model.py:568: ConvergenceWarning: Maximum Likelihood optimization failed to converge. Check mle_retvals\n",
      "  ConvergenceWarning)\n"
     ]
    },
    {
     "name": "stdout",
     "output_type": "stream",
     "text": [
      "ARIMA(1, 1, 0)x(1, 0, 0, 12) - AIC:142.93090879683152\n",
      "ARIMA(1, 1, 0)x(1, 0, 1, 12) - AIC:1399.7830076299801\n"
     ]
    },
    {
     "name": "stderr",
     "output_type": "stream",
     "text": [
      "F:\\anaconda\\lib\\site-packages\\statsmodels\\base\\model.py:568: ConvergenceWarning: Maximum Likelihood optimization failed to converge. Check mle_retvals\n",
      "  ConvergenceWarning)\n"
     ]
    },
    {
     "name": "stdout",
     "output_type": "stream",
     "text": [
      "ARIMA(1, 1, 0)x(1, 1, 0, 12) - AIC:103.41956699066805\n",
      "ARIMA(1, 1, 0)x(1, 1, 1, 12) - AIC:102.8724869152284\n",
      "ARIMA(1, 1, 1)x(0, 0, 0, 12) - AIC:209.01686937560584\n"
     ]
    },
    {
     "name": "stderr",
     "output_type": "stream",
     "text": [
      "F:\\anaconda\\lib\\site-packages\\statsmodels\\base\\model.py:568: ConvergenceWarning: Maximum Likelihood optimization failed to converge. Check mle_retvals\n",
      "  ConvergenceWarning)\n"
     ]
    },
    {
     "name": "stdout",
     "output_type": "stream",
     "text": [
      "ARIMA(1, 1, 1)x(0, 0, 1, 12) - AIC:1273.1896736049328\n",
      "ARIMA(1, 1, 1)x(0, 1, 0, 12) - AIC:138.8268879033982\n",
      "ARIMA(1, 1, 1)x(0, 1, 1, 12) - AIC:93.57718328182652\n",
      "ARIMA(1, 1, 1)x(1, 0, 0, 12) - AIC:139.85579113556133\n",
      "ARIMA(1, 1, 1)x(1, 0, 1, 12) - AIC:1348.111785966293\n",
      "ARIMA(1, 1, 1)x(1, 1, 0, 12) - AIC:99.84896888428182\n",
      "ARIMA(1, 1, 1)x(1, 1, 1, 12) - AIC:95.15766760070343\n"
     ]
    },
    {
     "name": "stderr",
     "output_type": "stream",
     "text": [
      "F:\\anaconda\\lib\\site-packages\\statsmodels\\base\\model.py:568: ConvergenceWarning: Maximum Likelihood optimization failed to converge. Check mle_retvals\n",
      "  ConvergenceWarning)\n"
     ]
    }
   ],
   "source": [
    "for p in rangePDQ:\n",
    "    for seasonalp in seasonalPDQ:\n",
    "        try:\n",
    "            model = sm.tsa.statespace.SARIMAX(y, order=p, seasonal_order=seasonalp, enforce_stationarity=False,\n",
    "                                            enforce_invertibility=False)\n",
    "            modelResults = model.fit()\n",
    "            print('ARIMA{}x{} - AIC:{}'.format(p, seasonalp, modelResults.aic))\n",
    "        except:\n",
    "            continue"
   ]
  },
  {
   "cell_type": "code",
   "execution_count": 52,
   "metadata": {},
   "outputs": [
    {
     "name": "stdout",
     "output_type": "stream",
     "text": [
      "==============================================================================\n",
      "                 coef    std err          z      P>|z|      [0.025      0.975]\n",
      "------------------------------------------------------------------------------\n",
      "ma.L1         -0.8272      0.158     -5.237      0.000      -1.137      -0.518\n",
      "ma.S.L12      -0.2753      0.325     -0.846      0.397      -0.913       0.362\n",
      "sigma2         3.7211      1.471      2.529      0.011       0.838       6.604\n",
      "==============================================================================\n"
     ]
    }
   ],
   "source": [
    "model = sm.tsa.statespace.SARIMAX(y, order=(0, 1, 1), seasonal_order=(0, 1, 1, 12), enforce_stationarity=False,\n",
    "                                            enforce_invertibility=False)\n",
    "modelResults = model.fit()\n",
    "print(modelResults.summary().tables[1])"
   ]
  },
  {
   "cell_type": "code",
   "execution_count": 53,
   "metadata": {},
   "outputs": [
    {
     "name": "stdout",
     "output_type": "stream",
     "text": [
      "            lower Quantity  upper Quantity\n",
      "Order_Date                                \n",
      "2017-01-01        1.752958        9.336980\n",
      "2017-02-01        2.054991        9.631597\n",
      "2017-03-01        2.939021       10.511344\n",
      "2017-04-01        2.633890       10.203299\n",
      "2017-05-01        4.955009       12.522431\n",
      "2017-06-01        3.872389       11.438455\n",
      "2017-07-01        4.591469       12.156608\n",
      "2017-08-01        4.383911       11.948417\n",
      "2017-09-01        7.057039       14.621113\n",
      "2017-10-01        4.518080       12.081857\n",
      "2017-11-01        8.030109       15.593684\n",
      "2017-12-01        8.911339       16.474775\n"
     ]
    },
    {
     "data": {
      "image/png": "[encoded data removed]",
      "text/plain": [
       "<Figure size 432x288 with 1 Axes>"
      ]
     },
     "metadata": {
      "needs_background": "light"
     },
     "output_type": "display_data"
    }
   ],
   "source": [
    "predictions = modelResults.get_prediction(start=pd.to_datetime('2017-01-01'), dynamic=False)\n",
    "pred_ci = predictions.conf_int()\n",
    "print(pred_ci)\n",
    "trace = y['2014':].plot(label='Observed')\n",
    "predictions.predicted_mean.plot(ax=trace, label='Future Forecast', alpha=.7)\n",
    "trace.set_xlabel('Date')\n",
    "trace.set_ylabel('Technology Sales')\n",
    "plt.legend()\n",
    "plt.show()"
   ]
  },
  {
   "cell_type": "code",
   "execution_count": 54,
   "metadata": {},
   "outputs": [
    {
     "name": "stdout",
     "output_type": "stream",
     "text": [
      "Mean Square Error: 3.0409126474316817\n",
      "Root Mean Square Error: 1.743821277376693\n"
     ]
    }
   ],
   "source": [
    "y_predicted = predictions.predicted_mean\n",
    "y_true = y['2017-01-01':]\n",
    "mse = ((y_predicted - y_true)**2).mean()\n",
    "print('Mean Square Error:', mse)\n",
    "print('Root Mean Square Error:', np.sqrt(mse))"
   ]
  },
  {
   "cell_type": "code",
   "execution_count": 55,
   "metadata": {},
   "outputs": [
    {
     "name": "stdout",
     "output_type": "stream",
     "text": [
      "[ 8.28571429  5.          8.54166667  6.          7.95        9.45\n",
      "  9.          8.         12.48       10.40909091 15.32       11.65217391]\n",
      "[ 5.54496886  5.84329376  6.72518268  6.41859458  8.73872021  7.6554217\n",
      "  8.37403843  8.16616369 10.83907591  8.29996836 11.8118966  12.69305722]\n",
      "MAPE 15.114378480495668\n"
     ]
    }
   ],
   "source": [
    "actual, pred = np.array(y_true), np.array(y_predicted)\n",
    "print(actual)\n",
    "print(pred)\n",
    "print(\"MAPE\",np.mean(np.abs((actual - pred) / actual)) * 100)"
   ]
  },
  {
   "cell_type": "code",
   "execution_count": 56,
   "metadata": {},
   "outputs": [
    {
     "data": {
      "image/png": "[encoded data removed]",
      "text/plain": [
       "<Figure size 1152x288 with 1 Axes>"
      ]
     },
     "metadata": {
      "needs_background": "light"
     },
     "output_type": "display_data"
    }
   ],
   "source": [
    "futurePred = modelResults.get_forecast(steps=36)\n",
    "predCi = futurePred.conf_int()\n",
    "ax = y.plot(label='Observed', figsize=(16, 4))\n",
    "futurePred.predicted_mean.plot(ax=ax, label='Forecast')\n",
    "ax.fill_between(predCi.index,\n",
    "                predCi.iloc[:, 0],\n",
    "                predCi.iloc[:, 1], color='k', alpha=.25)\n",
    "ax.set_xlabel('Date')\n",
    "ax.set_ylabel('Technological Sales')\n",
    "plt.legend()\n",
    "plt.show()"
   ]
  },
  {
   "cell_type": "code",
   "execution_count": 57,
   "metadata": {},
   "outputs": [
    {
     "data": {
      "text/plain": [
       "2018-01-01     9.470882\n",
       "2018-02-01     7.039121\n",
       "2018-03-01     9.889703\n",
       "2018-04-01     7.875678\n",
       "2018-05-01     9.947578\n",
       "2018-06-01    10.774463\n",
       "2018-07-01    10.560390\n",
       "2018-08-01     9.748516\n",
       "2018-09-01    13.739196\n",
       "2018-10-01    11.461361\n",
       "2018-11-01    15.886987\n",
       "2018-12-01    13.303984\n",
       "2019-01-01    10.885787\n",
       "2019-02-01     8.454026\n",
       "2019-03-01    11.304607\n",
       "2019-04-01     9.290583\n",
       "2019-05-01    11.362482\n",
       "2019-06-01    12.189368\n",
       "2019-07-01    11.975294\n",
       "2019-08-01    11.163420\n",
       "2019-09-01    15.154101\n",
       "2019-10-01    12.876265\n",
       "2019-11-01    17.301891\n",
       "2019-12-01    14.718889\n",
       "2020-01-01    12.300691\n",
       "2020-02-01     9.868931\n",
       "2020-03-01    12.719512\n",
       "2020-04-01    10.705488\n",
       "2020-05-01    12.777387\n",
       "2020-06-01    13.604273\n",
       "2020-07-01    13.390199\n",
       "2020-08-01    12.578325\n",
       "2020-09-01    16.569006\n",
       "2020-10-01    14.291170\n",
       "2020-11-01    18.716796\n",
       "2020-12-01    16.133794\n",
       "Freq: MS, Name: predicted_mean, dtype: float64"
      ]
     },
     "execution_count": 57,
     "metadata": {},
     "output_type": "execute_result"
    }
   ],
   "source": [
    "y_forecasted = futurePred.predicted_mean\n",
    "y_forecasted.head(36)"
   ]
  },
  {
   "cell_type": "code",
   "execution_count": 58,
   "metadata": {},
   "outputs": [
    {
     "name": "stdout",
     "output_type": "stream",
     "text": [
      "{'2018-01-01': 9.47088195918464, '2018-02-01': 7.039121334160791, '2018-03-01': 9.889702735408223, '2018-04-01': 7.875678432104304, '2018-05-01': 9.947577868391082, '2018-06-01': 10.774463482790951, '2018-07-01': 10.560389540409748, '2018-08-01': 9.748515770334699, '2018-09-01': 13.739196350376803, '2018-10-01': 11.461360888160687, '2018-11-01': 15.886986714899354, '2018-12-01': 13.303984366466711, '2019-01-01': 10.885786563847812, '2019-02-01': 8.454025938823964, '2019-03-01': 11.304607340071396, '2019-04-01': 9.290583036767476, '2019-05-01': 11.362482473054254, '2019-06-01': 12.189368087454122, '2019-07-01': 11.975294145072919, '2019-08-01': 11.16342037499787, '2019-09-01': 15.154100955039976, '2019-10-01': 12.876265492823858, '2019-11-01': 17.301891319562525, '2019-12-01': 14.71888897112988, '2020-01-01': 12.300691168510983, '2020-02-01': 9.868930543487135, '2020-03-01': 12.719511944734567, '2020-04-01': 10.705487641430647, '2020-05-01': 12.777387077717425, '2020-06-01': 13.604272692117293, '2020-07-01': 13.39019874973609, '2020-08-01': 12.57832497966104, '2020-09-01': 16.569005559703147, '2020-10-01': 14.29117009748703, '2020-11-01': 18.716795924225696, '2020-12-01': 16.133793575793053}\n"
     ]
    }
   ],
   "source": [
    "y_forecasted_dic = dict(zip(y_forecasted.index.strftime(\"%Y-%m-%d\"),y_forecasted.values))\n",
    "print(y_forecasted_dic)\n",
    "with open(\"tech_forecast.json\", \"w\") as outfile: \n",
    "    json.dump(y_forecasted_dic, outfile)"
   ]
  },
  {
   "cell_type": "code",
   "execution_count": 4,
   "metadata": {},
   "outputs": [
    {
     "data": {
      "text/plain": [
       "13.356716360613731"
      ]
     },
     "execution_count": 4,
     "metadata": {},
     "output_type": "execute_result"
    }
   ],
   "source": [
    "np.mean([13.583207753615179,11.372562847730348,15.114378480495668])"
   ]
  },
  {
   "cell_type": "code",
   "execution_count": null,
   "metadata": {},
   "outputs": [],
   "source": []
  }
 ],
 "metadata": {
  "kernelspec": {
   "display_name": "Python 3",
   "language": "python",
   "name": "python3"
  },
  "language_info": {
   "codemirror_mode": {
    "name": "ipython",
    "version": 3
   },
   "file_extension": ".py",
   "mimetype": "text/x-python",
   "name": "python",
   "nbconvert_exporter": "python",
   "pygments_lexer": "ipython3",
   "version": "3.7.3"
  }
 },
 "nbformat": 4,
 "nbformat_minor": 4
}
